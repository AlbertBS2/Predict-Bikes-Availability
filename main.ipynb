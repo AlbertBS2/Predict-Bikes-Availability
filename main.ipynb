{
 "cells": [
  {
   "cell_type": "code",
   "execution_count": 1,
   "metadata": {},
   "outputs": [],
   "source": [
    "import pandas as pd\n",
    "import numpy as np\n",
    "import matplotlib.pyplot as plt\n",
    "import seaborn as sns\n",
    "\n",
    "from sklearn.model_selection import train_test_split\n",
    "import sklearn.linear_model as skl_lm\n",
    "import sklearn.discriminant_analysis as skl_da\n",
    "import sklearn.neighbors as skl_nb\n",
    "from sklearn.metrics import accuracy_score, precision_score, recall_score, f1_score, roc_auc_score, confusion_matrix"
   ]
  },
  {
   "cell_type": "markdown",
   "metadata": {},
   "source": [
    "## Loading the dataset"
   ]
  },
  {
   "cell_type": "code",
   "execution_count": 2,
   "metadata": {},
   "outputs": [],
   "source": [
    "train_data = pd.read_csv('data/training_data_fall2024.csv')"
   ]
  },
  {
   "cell_type": "code",
   "execution_count": 4,
   "metadata": {},
   "outputs": [],
   "source": [
    "X = train_data.copy()\n",
    "y = X.pop('increase_stock')"
   ]
  },
  {
   "cell_type": "code",
   "execution_count": 5,
   "metadata": {},
   "outputs": [],
   "source": [
    "cat_features = ['hour_of_day', 'day_of_week', 'month', 'holiday', 'weekday', 'summertime']"
   ]
  },
  {
   "cell_type": "markdown",
   "metadata": {},
   "source": [
    "## 1) Logistic Regression"
   ]
  },
  {
   "cell_type": "markdown",
   "metadata": {},
   "source": [
    "Defining Logistic Regression function"
   ]
  },
  {
   "cell_type": "code",
   "execution_count": 7,
   "metadata": {},
   "outputs": [],
   "source": [
    "# Logistic Regression model with one-hot encoding\n",
    "def logistic_regression(X, y, test_size=0.2, cat_features=None):\n",
    "# One-hot encode categorical features\n",
    "    X = pd.get_dummies(X, columns=cat_features)\n",
    "\n",
    "    # Split the data into test (0.8) and train (0.2)\n",
    "    X_train, X_test, y_train, y_test = train_test_split(X, y, test_size=test_size, random_state=0)\n",
    "\n",
    "    # Load and fit the model\n",
    "    logr_model = skl_lm.LogisticRegression(max_iter=5000)\n",
    "    logr_model.fit(X_train, y_train)\n",
    "\n",
    "    # Compute predictions\n",
    "    y_pred = logr_model.predict(X_test)\n",
    "\n",
    "    # Compute the metrics\n",
    "    accuracy = accuracy_score(y_test, y_pred)\n",
    "    precision = precision_score(y_test, y_pred) # Proportion of 'low_bike_demand' (0) that were correctly predicted\n",
    "    recall = recall_score(y_test, y_pred) # Proportion of 'high_bike_demand' (1) that were correctly predicted\n",
    "    conf_matrix = confusion_matrix(y_test, y_pred)\n",
    "\n",
    "    print(f\"Logistic Regression Model \\n\")\n",
    "    print(f\"Accuracy: {round(accuracy, 4)}\")\n",
    "    print(f'Precision: {round(precision, 4)}')\n",
    "    print(f'Recall: {round(recall, 4)}')\n",
    "    print(f'Confusion Matrix: \\n{conf_matrix}')"
   ]
  },
  {
   "cell_type": "markdown",
   "metadata": {},
   "source": [
    "Implementing Logistic Regression model"
   ]
  },
  {
   "cell_type": "code",
   "execution_count": 8,
   "metadata": {},
   "outputs": [
    {
     "name": "stdout",
     "output_type": "stream",
     "text": [
      "Logistic Regression Model \n",
      "\n",
      "Accuracy: 0.8771\n",
      "Precision: 0.6866\n",
      "Recall: 0.5476\n",
      "Confusion Matrix: \n",
      "[[375  21]\n",
      " [ 38  46]]\n"
     ]
    }
   ],
   "source": [
    "# Load the data\n",
    "train_data = pd.read_csv('data/training_data_fall2024.csv')\n",
    "\n",
    "# Transform label into 0 (low_bike_demand) and 1 (high_bike_demand)\n",
    "train_data['increase_stock'] = np.where(train_data['increase_stock'] == 'low_bike_demand', 0, 1)\n",
    "\n",
    "# Split data into X and y\n",
    "X = train_data.copy()\n",
    "y = X.pop('increase_stock')\n",
    "\n",
    "# List with categorical features\n",
    "cat_features = ['hour_of_day', 'day_of_week', 'month', 'holiday', 'weekday', 'summertime']\n",
    "\n",
    "# Run Logistic Regression\n",
    "logistic_regression(X, y, test_size=0.3, cat_features=cat_features)"
   ]
  },
  {
   "cell_type": "markdown",
   "metadata": {},
   "source": [
    "Adding a day/night column"
   ]
  },
  {
   "cell_type": "code",
   "execution_count": 9,
   "metadata": {},
   "outputs": [
    {
     "name": "stdout",
     "output_type": "stream",
     "text": [
      "Logistic Regression Model \n",
      "\n",
      "Accuracy: 0.8854\n",
      "Precision: 0.7042\n",
      "Recall: 0.5952\n",
      "Confusion Matrix: \n",
      "[[375  21]\n",
      " [ 34  50]]\n"
     ]
    }
   ],
   "source": [
    "# Load the data\n",
    "train_data = pd.read_csv('data/training_data_fall2024.csv')\n",
    "\n",
    "# Transform label into 0 (low_bike_demand) and 1 (high_bike_demand)\n",
    "train_data['increase_stock'] = np.where(train_data['increase_stock'] == 'low_bike_demand', 0, 1)\n",
    "\n",
    "# Add column to the data to indicate if it is day (1) or night (0), considering day from 6:00 to 18:00h\n",
    "# Proposal: Adapt it to summertime and wintertime\n",
    "train_data['day_night'] = np.where((train_data['hour_of_day'] >= 6) & (train_data['hour_of_day'] <= 18), 1, 0)\n",
    "\n",
    "# Split data into X and y\n",
    "X = train_data.copy()\n",
    "y = X.pop('increase_stock')\n",
    "\n",
    "# List with categorical features\n",
    "cat_features = ['hour_of_day', 'day_of_week', 'month', 'holiday', 'weekday', 'summertime', 'day_night']\n",
    "\n",
    "# Run Logistic Regression\n",
    "logistic_regression(X, y, test_size=0.3, cat_features=cat_features)"
   ]
  },
  {
   "cell_type": "markdown",
   "metadata": {},
   "source": [
    "## 2) Linear Discriminant Analysis"
   ]
  },
  {
   "cell_type": "markdown",
   "metadata": {},
   "source": [
    "Defining LDA function"
   ]
  },
  {
   "cell_type": "code",
   "execution_count": 10,
   "metadata": {},
   "outputs": [],
   "source": [
    "# Linear Discriminant Analysis model with one-hot encoding\n",
    "def LDA(X, y, test_size=0.2, cat_features=None):\n",
    "    # One-hot encode categorical features\n",
    "    X = pd.get_dummies(X, columns=cat_features)\n",
    "\n",
    "    # Split the data into test (0.8) and train (0.2)\n",
    "    X_train, X_test, y_train, y_test = train_test_split(X, y, test_size=test_size, random_state=0)\n",
    "\n",
    "    # Load and fit the model\n",
    "    lda_model = skl_da.LinearDiscriminantAnalysis()\n",
    "    lda_model.fit(X_train, y_train)\n",
    "\n",
    "    # Compute predictions\n",
    "    y_pred = lda_model.predict(X_test)\n",
    "\n",
    "    # Compute the metrics\n",
    "    accuracy = accuracy_score(y_test, y_pred)\n",
    "    precision = precision_score(y_test, y_pred) # Proportion of 'low_bike_demand' (0) that were correctly predicted\n",
    "    recall = recall_score(y_test, y_pred) # Proportion of 'high_bike_demand' (1) that were correctly predicted\n",
    "    conf_matrix = confusion_matrix(y_test, y_pred)\n",
    "\n",
    "    print(f\"Linear Discriminant Analysis Model \\n\")\n",
    "    print(f\"Accuracy: {round(accuracy, 4)}\")\n",
    "    print(f'Precision: {round(precision, 4)}')\n",
    "    print(f'Recall: {round(recall, 4)}')\n",
    "    print(f'Confusion Matrix: \\n{conf_matrix}')"
   ]
  },
  {
   "cell_type": "markdown",
   "metadata": {},
   "source": [
    "Implementing LDA model"
   ]
  },
  {
   "cell_type": "code",
   "execution_count": 11,
   "metadata": {},
   "outputs": [
    {
     "name": "stdout",
     "output_type": "stream",
     "text": [
      "Linear Discriminant Analysis Model \n",
      "\n",
      "Accuracy: 0.8542\n",
      "Precision: 0.5854\n",
      "Recall: 0.5714\n",
      "Confusion Matrix: \n",
      "[[362  34]\n",
      " [ 36  48]]\n"
     ]
    }
   ],
   "source": [
    "# Load the data\n",
    "train_data = pd.read_csv('data/training_data_fall2024.csv')\n",
    "\n",
    "# Transform label into 0 (low_bike_demand) and 1 (high_bike_demand)\n",
    "train_data['increase_stock'] = np.where(train_data['increase_stock'] == 'low_bike_demand', 0, 1)\n",
    "\n",
    "# Split data into X and y\n",
    "X = train_data.copy()\n",
    "y = X.pop('increase_stock')\n",
    "\n",
    "# List with categorical features\n",
    "cat_features = ['hour_of_day', 'day_of_week', 'month', 'holiday', 'weekday', 'summertime']\n",
    "\n",
    "# Run LDA\n",
    "LDA(X, y, test_size=0.3, cat_features=cat_features)"
   ]
  },
  {
   "cell_type": "markdown",
   "metadata": {},
   "source": [
    "Adding a day/night column"
   ]
  },
  {
   "cell_type": "code",
   "execution_count": 12,
   "metadata": {},
   "outputs": [
    {
     "name": "stdout",
     "output_type": "stream",
     "text": [
      "Linear Discriminant Analysis Model \n",
      "\n",
      "Accuracy: 0.8542\n",
      "Precision: 0.5854\n",
      "Recall: 0.5714\n",
      "Confusion Matrix: \n",
      "[[362  34]\n",
      " [ 36  48]]\n"
     ]
    }
   ],
   "source": [
    "# Load the data\n",
    "train_data = pd.read_csv('data/training_data_fall2024.csv')\n",
    "\n",
    "# Transform label into 0 (low_bike_demand) and 1 (high_bike_demand)\n",
    "train_data['increase_stock'] = np.where(train_data['increase_stock'] == 'low_bike_demand', 0, 1)\n",
    "\n",
    "# Add column to the data to indicate if it is day (1) or night (0), considering day from 6:00 to 18:00h\n",
    "# Proposal: Adapt it to summertime and wintertime\n",
    "train_data['day_night'] = np.where((train_data['hour_of_day'] >= 6) & (train_data['hour_of_day'] <= 18), 1, 0)\n",
    "\n",
    "# Split data into X and y\n",
    "X = train_data.copy()\n",
    "y = X.pop('increase_stock')\n",
    "\n",
    "# List with categorical features\n",
    "cat_features = ['hour_of_day', 'day_of_week', 'month', 'holiday', 'weekday', 'summertime', 'day_night']\n",
    "\n",
    "# Run LDA\n",
    "LDA(X, y, test_size=0.3, cat_features=cat_features)"
   ]
  },
  {
   "cell_type": "markdown",
   "metadata": {},
   "source": [
    "## 3) Quadratic Discriminant Analysis"
   ]
  },
  {
   "cell_type": "markdown",
   "metadata": {},
   "source": [
    "Defining QDA function"
   ]
  },
  {
   "cell_type": "code",
   "execution_count": 13,
   "metadata": {},
   "outputs": [],
   "source": [
    "# Quadratic Discriminant Analysis model\n",
    "def QDA(X, y, test_size=0.2, cat_features=None):\n",
    "    # One-hot encode categorical features\n",
    "    X = pd.get_dummies(X, columns=cat_features)\n",
    "\n",
    "    # Split the data into test (0.8) and train (0.2)\n",
    "    X_train, X_test, y_train, y_test = train_test_split(X, y, test_size=test_size, random_state=0)\n",
    "\n",
    "    # Load and fit the model\n",
    "    qda_model = skl_da.QuadraticDiscriminantAnalysis()\n",
    "    qda_model.fit(X_train, y_train)\n",
    "\n",
    "    # Compute predictions\n",
    "    y_pred = qda_model.predict(X_test)\n",
    "\n",
    "    # Compute the metrics\n",
    "    accuracy = accuracy_score(y_test, y_pred)\n",
    "    precision = precision_score(y_test, y_pred) # Proportion of 'low_bike_demand' (0) that were correctly predicted\n",
    "    recall = recall_score(y_test, y_pred) # Proportion of 'high_bike_demand' (1) that were correctly predicted\n",
    "    conf_matrix = confusion_matrix(y_test, y_pred)\n",
    "\n",
    "    print(f\"k Quadratic Discriminant Analysis Model \\n\")\n",
    "    print(f\"Accuracy: {round(accuracy, 4)}\")\n",
    "    print(f'Precision: {round(precision, 4)}')\n",
    "    print(f'Recall: {round(recall, 4)}')\n",
    "    print(f'Confusion Matrix: \\n{conf_matrix}')"
   ]
  },
  {
   "cell_type": "markdown",
   "metadata": {},
   "source": [
    "Implementing QDA model"
   ]
  },
  {
   "cell_type": "code",
   "execution_count": 14,
   "metadata": {},
   "outputs": [
    {
     "name": "stdout",
     "output_type": "stream",
     "text": [
      "k Quadratic Discriminant Analysis Model \n",
      "\n",
      "Accuracy: 0.5979\n",
      "Precision: 0.3018\n",
      "Recall: 0.9881\n",
      "Confusion Matrix: \n",
      "[[204 192]\n",
      " [  1  83]]\n"
     ]
    },
    {
     "name": "stderr",
     "output_type": "stream",
     "text": [
      "C:\\Users\\abarg\\AppData\\Roaming\\Python\\Python311\\site-packages\\sklearn\\discriminant_analysis.py:926: UserWarning: Variables are collinear\n",
      "  warnings.warn(\"Variables are collinear\")\n"
     ]
    }
   ],
   "source": [
    "# Load the data\n",
    "train_data = pd.read_csv('data/training_data_fall2024.csv')\n",
    "\n",
    "# Transform label into 0 (low_bike_demand) and 1 (high_bike_demand)\n",
    "train_data['increase_stock'] = np.where(train_data['increase_stock'] == 'low_bike_demand', 0, 1)\n",
    "\n",
    "# Split data into X and y\n",
    "X = train_data.copy()\n",
    "y = X.pop('increase_stock')\n",
    "\n",
    "# List with categorical features\n",
    "cat_features = ['hour_of_day', 'day_of_week', 'month', 'holiday', 'weekday', 'summertime']\n",
    "\n",
    "# Run QDA\n",
    "QDA(X, y, test_size=0.3, cat_features=cat_features)"
   ]
  },
  {
   "cell_type": "markdown",
   "metadata": {},
   "source": [
    "Adding day/night column"
   ]
  },
  {
   "cell_type": "code",
   "execution_count": 15,
   "metadata": {},
   "outputs": [
    {
     "name": "stdout",
     "output_type": "stream",
     "text": [
      "k Quadratic Discriminant Analysis Model \n",
      "\n",
      "Accuracy: 0.5979\n",
      "Precision: 0.3018\n",
      "Recall: 0.9881\n",
      "Confusion Matrix: \n",
      "[[204 192]\n",
      " [  1  83]]\n"
     ]
    },
    {
     "name": "stderr",
     "output_type": "stream",
     "text": [
      "C:\\Users\\abarg\\AppData\\Roaming\\Python\\Python311\\site-packages\\sklearn\\discriminant_analysis.py:926: UserWarning: Variables are collinear\n",
      "  warnings.warn(\"Variables are collinear\")\n"
     ]
    }
   ],
   "source": [
    "# Load the data\n",
    "train_data = pd.read_csv('data/training_data_fall2024.csv')\n",
    "\n",
    "# Transform label into 0 (low_bike_demand) and 1 (high_bike_demand)\n",
    "train_data['increase_stock'] = np.where(train_data['increase_stock'] == 'low_bike_demand', 0, 1)\n",
    "\n",
    "# Add column to the data to indicate if it is day (1) or night (0), considering day from 6:00 to 18:00h\n",
    "# Proposal: Adapt it to summertime and wintertime\n",
    "train_data['day_night'] = np.where((train_data['hour_of_day'] >= 6) & (train_data['hour_of_day'] <= 18), 1, 0)\n",
    "\n",
    "# Split data into X and y\n",
    "X = train_data.copy()\n",
    "y = X.pop('increase_stock')\n",
    "\n",
    "# List with categorical features\n",
    "cat_features = ['hour_of_day', 'day_of_week', 'month', 'holiday', 'weekday', 'summertime', 'day_night']\n",
    "\n",
    "# Run QDA\n",
    "QDA(X, y, test_size=0.3, cat_features=cat_features)"
   ]
  },
  {
   "cell_type": "markdown",
   "metadata": {},
   "source": [
    "## 4) k Nearest Neighbors"
   ]
  },
  {
   "cell_type": "markdown",
   "metadata": {},
   "source": [
    "Defining k-NN function"
   ]
  },
  {
   "cell_type": "code",
   "execution_count": 16,
   "metadata": {},
   "outputs": [],
   "source": [
    "# k Nearest Neighbors model\n",
    "def kNN(X, y, n_neighbors=1, test_size=0.2, cat_features=None):\n",
    "    # One-hot encode categorical features\n",
    "    X = pd.get_dummies(X, columns=cat_features)\n",
    "\n",
    "    # Split the data into test (0.8) and train (0.2)\n",
    "    X_train, X_test, y_train, y_test = train_test_split(X, y, test_size=test_size, random_state=0)\n",
    "\n",
    "    # Load and fit the model\n",
    "    knn_model = skl_nb.KNeighborsClassifier(n_neighbors=n_neighbors)\n",
    "    knn_model.fit(X_train, y_train)\n",
    "\n",
    "    # Compute predictions\n",
    "    y_pred = knn_model.predict(X_test)\n",
    "\n",
    "    # Compute the metrics\n",
    "    accuracy = accuracy_score(y_test, y_pred)\n",
    "    precision = precision_score(y_test, y_pred) # Proportion of 'low_bike_demand' (0) that were correctly predicted\n",
    "    recall = recall_score(y_test, y_pred) # Proportion of 'high_bike_demand' (1) that were correctly predicted\n",
    "    conf_matrix = confusion_matrix(y_test, y_pred)\n",
    "\n",
    "    print(f\"k Nearest Neighbors Model \\n\")\n",
    "    print(f\"Accuracy: {round(accuracy, 4)}\")\n",
    "    print(f'Precision: {round(precision, 4)}')\n",
    "    print(f'Recall: {round(recall, 4)}')\n",
    "    print(f'Confusion Matrix: \\n{conf_matrix}')"
   ]
  },
  {
   "cell_type": "markdown",
   "metadata": {},
   "source": [
    "Defining a k-value comparator"
   ]
  },
  {
   "cell_type": "code",
   "execution_count": 17,
   "metadata": {},
   "outputs": [],
   "source": [
    "def knn_comparator(X, y, n_neighbors, test_size=0.2, cat_features=None):\n",
    "    # One-hot encode categorical features\n",
    "    X = pd.get_dummies(X, columns=cat_features)\n",
    "\n",
    "    # Split the data into test and train\n",
    "    X_train, X_test, y_train, y_test = train_test_split(X, y, test_size=test_size, random_state=0)\n",
    "\n",
    "    accuracies = {}\n",
    "    for k in range(1, n_neighbors+1):\n",
    "        # Load and fit the KNN model\n",
    "        knn_model = skl_nb.KNeighborsClassifier(n_neighbors=k)\n",
    "        knn_model.fit(X_train, y_train)\n",
    "\n",
    "        # Compute predictions\n",
    "        y_pred = knn_model.predict(X_test)\n",
    "\n",
    "        # Fraction of correct predictions\n",
    "        accuracy = accuracy_score(y_test, y_pred)\n",
    "        \n",
    "        # Add value to the accuracies dictionary\n",
    "        accuracies[k] = accuracy\n",
    "    \n",
    "    print(f\"Max accuracy {round(max(accuracies.values()), 4)} at k={max(accuracies, key=accuracies.get)}\")\n",
    "\n",
    "    # Plot models accuracy for each value of k\n",
    "    plt.scatter(accuracies.keys(), accuracies.values())\n",
    "    plt.xlabel(\"Number of neighbors (k)\")\n",
    "    plt.ylabel(\"Accuracy\")\n",
    "    plt.title(\"Accuracy of k-NN model\")\n",
    "    plt.xlim([1, n_neighbors])\n",
    "    plt.text(max(accuracies, key=accuracies.get), round(max(accuracies.values()), 4), f\"k={max(accuracies, key=accuracies.get)}\")\n",
    "    plt.show();"
   ]
  },
  {
   "cell_type": "markdown",
   "metadata": {},
   "source": [
    "Searching for the optimal k-value"
   ]
  },
  {
   "cell_type": "code",
   "execution_count": 18,
   "metadata": {},
   "outputs": [
    {
     "name": "stdout",
     "output_type": "stream",
     "text": [
      "Max accuracy 0.85 at k=29\n"
     ]
    },
    {
     "data": {
      "image/png": "[encoded data removed]",
      "text/plain": [
       "<Figure size 640x480 with 1 Axes>"
      ]
     },
     "metadata": {},
     "output_type": "display_data"
    }
   ],
   "source": [
    "cat_features = ['hour_of_day', 'day_of_week', 'month', 'holiday', 'weekday', 'summertime']\n",
    "knn_comparator(X, y, n_neighbors=50, test_size=0.2, cat_features=None)"
   ]
  },
  {
   "cell_type": "markdown",
   "metadata": {},
   "source": [
    "Implementing k-NN model"
   ]
  },
  {
   "cell_type": "code",
   "execution_count": 19,
   "metadata": {},
   "outputs": [
    {
     "name": "stdout",
     "output_type": "stream",
     "text": [
      "k Nearest Neighbors Model \n",
      "\n",
      "Accuracy: 0.85\n",
      "Precision: 0.6136\n",
      "Recall: 0.4655\n",
      "Confusion Matrix: \n",
      "[[245  17]\n",
      " [ 31  27]]\n"
     ]
    }
   ],
   "source": [
    "# Load the data\n",
    "train_data = pd.read_csv('data/training_data_fall2024.csv')\n",
    "\n",
    "# Transform label into 0 (low_bike_demand) and 1 (high_bike_demand)\n",
    "train_data['increase_stock'] = np.where(train_data['increase_stock'] == 'low_bike_demand', 0, 1)\n",
    "\n",
    "# Split data into X and y\n",
    "X = train_data.copy()\n",
    "y = X.pop('increase_stock')\n",
    "\n",
    "# List with categorical features\n",
    "cat_features = ['hour_of_day', 'day_of_week', 'month', 'holiday', 'weekday', 'summertime']\n",
    "\n",
    "# Run kNN\n",
    "kNN(X, y, n_neighbors=29, test_size=0.2, cat_features=None)"
   ]
  },
  {
   "cell_type": "markdown",
   "metadata": {},
   "source": [
    "Adding a day/night column"
   ]
  },
  {
   "cell_type": "code",
   "execution_count": 20,
   "metadata": {},
   "outputs": [
    {
     "name": "stdout",
     "output_type": "stream",
     "text": [
      "k Nearest Neighbors Model \n",
      "\n",
      "Accuracy: 0.85\n",
      "Precision: 0.6136\n",
      "Recall: 0.4655\n",
      "Confusion Matrix: \n",
      "[[245  17]\n",
      " [ 31  27]]\n"
     ]
    }
   ],
   "source": [
    "# Load the data\n",
    "train_data = pd.read_csv('data/training_data_fall2024.csv')\n",
    "\n",
    "# Transform label into 0 (low_bike_demand) and 1 (high_bike_demand)\n",
    "train_data['increase_stock'] = np.where(train_data['increase_stock'] == 'low_bike_demand', 0, 1)\n",
    "\n",
    "# Add column to the data to indicate if it is day (1) or night (0), considering day from 6:00 to 18:00h\n",
    "# Proposal: Adapt it to summertime and wintertime\n",
    "train_data['day_night'] = np.where((train_data['hour_of_day'] >= 6) & (train_data['hour_of_day'] <= 18), 1, 0)\n",
    "\n",
    "# Split data into X and y\n",
    "X = train_data.copy()\n",
    "y = X.pop('increase_stock')\n",
    "\n",
    "# List with categorical features\n",
    "cat_features = ['hour_of_day', 'day_of_week', 'month', 'holiday', 'weekday', 'summertime', 'day_night']\n",
    "\n",
    "# Run kNN\n",
    "kNN(X, y, n_neighbors=29, test_size=0.2, cat_features=None)"
   ]
  },
  {
   "cell_type": "code",
   "execution_count": null,
   "metadata": {},
   "outputs": [],
   "source": []
  }
 ],
 "metadata": {
  "kernelspec": {
   "display_name": "Python 3",
   "language": "python",
   "name": "python3"
  },
  "language_info": {
   "codemirror_mode": {
    "name": "ipython",
    "version": 3
   },
   "file_extension": ".py",
   "mimetype": "text/x-python",
   "name": "python",
   "nbconvert_exporter": "python",
   "pygments_lexer": "ipython3",
   "version": "3.11.2"
  }
 },
 "nbformat": 4,
 "nbformat_minor": 2
}
