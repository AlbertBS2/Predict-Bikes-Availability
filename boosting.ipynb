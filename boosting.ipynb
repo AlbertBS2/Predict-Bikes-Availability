{
 "cells": [
  {
   "cell_type": "code",
   "execution_count": 3,
   "metadata": {},
   "outputs": [],
   "source": [
    "from sklearn.model_selection import train_test_split\n",
    "from sklearn.metrics import accuracy_score, precision_score, recall_score, f1_score, confusion_matrix\n",
    "import pandas as pd\n",
    "import numpy as np\n",
    "import xgboost as xgb\n",
    "from xgboost import XGBClassifier"
   ]
  },
  {
   "cell_type": "code",
   "execution_count": 4,
   "metadata": {},
   "outputs": [
    {
     "name": "stdout",
     "output_type": "stream",
     "text": [
      "hour_of_day         int64\n",
      "day_of_week         int64\n",
      "month               int64\n",
      "weekday             int64\n",
      "summertime          int64\n",
      "temp              float64\n",
      "dew               float64\n",
      "humidity          float64\n",
      "snowdepth           int64\n",
      "windspeed         float64\n",
      "cloudcover        float64\n",
      "visibility        float64\n",
      "increase_stock      int64\n",
      "day                 int64\n",
      "rain                int64\n",
      "dtype: object\n"
     ]
    }
   ],
   "source": [
    "train_data = train_data = pd.read_csv('data/preprocessed_dataset.csv')\n",
    "train_data['increase_stock'] = np.where(train_data['increase_stock'] == 'low_bike_demand', 0, 1)\n",
    "import pandas as pd\n",
    "print(train_data.dtypes)"
   ]
  },
  {
   "cell_type": "code",
   "execution_count": 5,
   "metadata": {},
   "outputs": [
    {
     "name": "stdout",
     "output_type": "stream",
     "text": [
      "hour_of_day          int64\n",
      "day_of_week          int64\n",
      "month             category\n",
      "weekday           category\n",
      "summertime        category\n",
      "temp               float64\n",
      "dew                float64\n",
      "humidity           float64\n",
      "snowdepth            int64\n",
      "windspeed          float64\n",
      "cloudcover         float64\n",
      "visibility         float64\n",
      "increase_stock    category\n",
      "day               category\n",
      "rain              category\n",
      "dtype: object\n"
     ]
    }
   ],
   "source": [
    "categorical_features = ['weekday','month','summertime','day','rain','increase_stock']\n",
    "#'hour_of_day', 'day_of_week' ? these make the performance worse as categorical values..\n",
    "for feature in categorical_features:\n",
    "    train_data[feature] = train_data[feature].astype('category')\n",
    "\n",
    "# Check the updated data types\n",
    "print(train_data.dtypes)\n"
   ]
  },
  {
   "cell_type": "code",
   "execution_count": 6,
   "metadata": {},
   "outputs": [
    {
     "name": "stdout",
     "output_type": "stream",
     "text": [
      "(1600, 14)\n",
      "(1600,)\n"
     ]
    }
   ],
   "source": [
    "X = train_data.drop('increase_stock', axis=1)\n",
    "y = train_data['increase_stock']\n",
    "\n",
    "print(X.shape)\n",
    "print(y.shape)"
   ]
  },
  {
   "cell_type": "code",
   "execution_count": 7,
   "metadata": {},
   "outputs": [],
   "source": [
    "#Split data\n",
    "X_train, X_test, y_train, y_test = train_test_split(X, y, test_size=0.2, random_state=0)"
   ]
  },
  {
   "cell_type": "code",
   "execution_count": 8,
   "metadata": {},
   "outputs": [],
   "source": [
    "#train model\n",
    "xgb_model = xgb.XGBClassifier(\n",
    "    random_state=0,\n",
    "    enable_categorical = True\n",
    ")\n",
    "\n",
    "xgb_model.fit(X_train, y_train)\n",
    "\n",
    "y_pred = xgb_model.predict(X_test)"
   ]
  },
  {
   "cell_type": "code",
   "execution_count": 9,
   "metadata": {},
   "outputs": [
    {
     "name": "stdout",
     "output_type": "stream",
     "text": [
      "Accuracy: 0.88\n",
      "Precision: 0.69\n",
      "Recall: 0.66\n",
      "F1-Score: 0.67\n",
      "Confusion Matrix: \n",
      "[[245  17]\n",
      " [ 20  38]]\n"
     ]
    }
   ],
   "source": [
    "#check performance \n",
    "\n",
    "accuracy = accuracy_score(y_test, y_pred)\n",
    "precision = precision_score(y_test, y_pred)\n",
    "recall = recall_score(y_test, y_pred)\n",
    "f1 = f1_score(y_test, y_pred)\n",
    "conf_matrix = confusion_matrix(y_test, y_pred)\n",
    "\n",
    "print(f\"Accuracy: {accuracy:.2f}\")\n",
    "print(f\"Precision: {precision:.2f}\")\n",
    "print(f\"Recall: {recall:.2f}\")\n",
    "print(f\"F1-Score: {f1:.2f}\")\n",
    "print(f'Confusion Matrix: \\n{conf_matrix}')"
   ]
  },
  {
   "cell_type": "code",
   "execution_count": 10,
   "metadata": {},
   "outputs": [
    {
     "name": "stdout",
     "output_type": "stream",
     "text": [
      "Fitting 4 folds for each of 1944 candidates, totalling 7776 fits\n",
      "Best parameters: {'gamma': 0.1, 'learning_rate': 0.3, 'max_depth': 10, 'min_child_weight': 1, 'n_estimators': 20, 'reg_alpha': 1, 'reg_lambda': 0}\n",
      "Best recall: 0.7537243337702053\n"
     ]
    }
   ],
   "source": [
    "#find best hyper parameters\n",
    "from sklearn.model_selection import GridSearchCV\n",
    "\n",
    "param_grid = {\n",
    "    'max_depth': [7, 10,12],\n",
    "    'learning_rate': [0.1, 0.2, 0.3, 0.4],\n",
    "    'n_estimators': [10, 20, 30], \n",
    "    'min_child_weight':[0.1, 1, 3],\n",
    "    'gamma':[0, 0.1, 0.3],\n",
    "    'reg_alpha':[ 0.1, 1, 2],\n",
    "    'reg_lambda': [0, 0.1]\n",
    "}\n",
    "\n",
    "grid_search = GridSearchCV(\n",
    "    estimator=XGBClassifier(random_state=0, enable_categorical = True),\n",
    "    param_grid=param_grid,\n",
    "    scoring='f1',  # RECALL OR ????\n",
    "    cv=4, \n",
    "    verbose=1,\n",
    "    n_jobs = -1\n",
    ")\n",
    "\n",
    "grid_search.fit(X_train, y_train,)\n",
    "print(\"Best parameters:\", grid_search.best_params_)\n",
    "print(\"Best recall:\", grid_search.best_score_)\n"
   ]
  },
  {
   "cell_type": "code",
   "execution_count": 11,
   "metadata": {},
   "outputs": [],
   "source": [
    "final_model = xgb.XGBClassifier(**grid_search.best_params_, random_state=0, enable_categorical=True)"
   ]
  },
  {
   "cell_type": "code",
   "execution_count": 12,
   "metadata": {},
   "outputs": [
    {
     "name": "stdout",
     "output_type": "stream",
     "text": [
      "Accuracy: 0.89\n",
      "Precision: 0.70\n",
      "Recall: 0.66\n",
      "F1-Score: 0.68\n",
      "Confusion Matrix: \n",
      "[[246  16]\n",
      " [ 20  38]]\n"
     ]
    }
   ],
   "source": [
    "final_model.fit(X_train, y_train)\n",
    "y_test_pred = final_model.predict(X_test)\n",
    "\n",
    "accuracy = accuracy_score(y_test, y_test_pred)\n",
    "precision = precision_score(y_test, y_test_pred)\n",
    "recall = recall_score(y_test, y_test_pred)\n",
    "f1 = f1_score(y_test, y_test_pred)\n",
    "conf_matrix = confusion_matrix(y_test, y_test_pred)\n",
    "\n",
    "print(f\"Accuracy: {accuracy:.2f}\")\n",
    "print(f\"Precision: {precision:.2f}\")\n",
    "print(f\"Recall: {recall:.2f}\")\n",
    "print(f\"F1-Score: {f1:.2f}\")\n",
    "print(f'Confusion Matrix: \\n{conf_matrix}')"
   ]
  },
  {
   "cell_type": "code",
   "execution_count": 13,
   "metadata": {},
   "outputs": [
    {
     "data": {
      "text/plain": [
       "<sklearn.metrics._plot.confusion_matrix.ConfusionMatrixDisplay at 0x163832b50>"
      ]
     },
     "execution_count": 13,
     "metadata": {},
     "output_type": "execute_result"
    },
    {
     "data": {
      "image/png": "[encoded data removed]",
      "text/plain": [
       "<Figure size 640x480 with 2 Axes>"
      ]
     },
     "metadata": {},
     "output_type": "display_data"
    }
   ],
   "source": [
    "from sklearn.metrics import confusion_matrix, ConfusionMatrixDisplay\n",
    "\n",
    "cm = confusion_matrix(y_test, y_test_pred)\n",
    "disp = ConfusionMatrixDisplay(confusion_matrix=cm, display_labels=['Low Demand', 'High Demand'])\n",
    "disp.plot()"
   ]
  },
  {
   "cell_type": "code",
   "execution_count": 14,
   "metadata": {},
   "outputs": [
    {
     "data": {
      "image/png": "[encoded data removed]",
      "text/plain": [
       "<Figure size 640x480 with 1 Axes>"
      ]
     },
     "metadata": {},
     "output_type": "display_data"
    }
   ],
   "source": [
    "from sklearn.metrics import roc_curve, roc_auc_score\n",
    "import matplotlib.pyplot as plt\n",
    "\n",
    "y_prob = final_model.predict_proba(X_test)[:, 1]\n",
    "\n",
    "roc_auc = roc_auc_score(y_test, y_prob)\n",
    "fpr, tpr, _ = roc_curve(y_test, y_prob)\n",
    "plt.plot(fpr, tpr, label=f\"ROC Curve (AUC = {roc_auc:.2f})\")\n",
    "plt.xlabel('False Positive Rate')\n",
    "plt.ylabel('True Positive Rate')\n",
    "plt.legend()\n",
    "plt.show()\n"
   ]
  },
  {
   "cell_type": "code",
   "execution_count": 18,
   "metadata": {},
   "outputs": [
    {
     "name": "stdout",
     "output_type": "stream",
     "text": [
      "Best parameters found:  {'gamma': 0, 'learning_rate': 0.1, 'max_depth': 10, 'min_child_weight': 1, 'n_estimators': 30, 'reg_alpha': 0.1, 'reg_lambda': 0.1}\n",
      "Saving best parameters to 'output/best_params/xgb_best_params.json'\n"
     ]
    },
    {
     "data": {
      "text/plain": [
       "{'gamma': 0,\n",
       " 'learning_rate': 0.1,\n",
       " 'max_depth': 10,\n",
       " 'min_child_weight': 1,\n",
       " 'n_estimators': 30,\n",
       " 'reg_alpha': 0.1,\n",
       " 'reg_lambda': 0.1}"
      ]
     },
     "execution_count": 18,
     "metadata": {},
     "output_type": "execute_result"
    }
   ],
   "source": [
    "import utils\n",
    "\n",
    "\n",
    "model = XGBClassifier(random_state=0,enable_categorical=True)\n",
    "param_grid = {\n",
    "    'max_depth': [7, 10, 12],\n",
    "    'learning_rate': [0.1, 0.2, 0.3, 0.4],\n",
    "    'n_estimators': [10, 20, 30], \n",
    "    'min_child_weight':[0.1, 1, 3],\n",
    "    'gamma':[0, 0.1, 0.3],\n",
    "    'reg_alpha':[ 0.1, 1, 2],\n",
    "    'reg_lambda': [0, 0.1]\n",
    "}\n",
    "\n",
    "utils.find_optimal_hyperparameters(model, param_grid, X_train, y_train, cv=5, scoring='accuracy', n_jobs=-1, save_dir=\"output/best_params\", save_file='xgb_best_params.json')\n"
   ]
  },
  {
   "cell_type": "code",
   "execution_count": 19,
   "metadata": {},
   "outputs": [
    {
     "name": "stdout",
     "output_type": "stream",
     "text": [
      "Accuracy: 0.8938\n",
      "Precision: 0.7500\n",
      "Recall: 0.6207\n",
      "F1: 0.6792\n",
      "ROC AUC: 0.9187\n",
      "Confusion Matrix: \n",
      "[[250  12]\n",
      " [ 22  36]]\n"
     ]
    }
   ],
   "source": [
    "import utils\n",
    "\n",
    "model = XGBClassifier\n",
    "\n",
    "model = utils.load_model_from_json(model, \"output/best_params/xgb_best_params.json\", {'enable_categorical' : True, 'random_state': 0})\n",
    "\n",
    "acc, precision, recall, f1, roc_auc, cm = utils.fit_and_evaluate(model, \n",
    "                                                           X_train, \n",
    "                                                           y_train, \n",
    "                                                           X_test, \n",
    "                                                           y_test, \n",
    "                                                           verbose=True)\n",
    "\n",
    "\n",
    "                                                        "
   ]
  }
 ],
 "metadata": {
  "kernelspec": {
   "display_name": "Python 3",
   "language": "python",
   "name": "python3"
  },
  "language_info": {
   "codemirror_mode": {
    "name": "ipython",
    "version": 3
   },
   "file_extension": ".py",
   "mimetype": "text/x-python",
   "name": "python",
   "nbconvert_exporter": "python",
   "pygments_lexer": "ipython3",
   "version": "3.9.7"
  }
 },
 "nbformat": 4,
 "nbformat_minor": 2
}
