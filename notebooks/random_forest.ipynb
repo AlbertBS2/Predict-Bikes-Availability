{
 "cells": [
  {
   "cell_type": "code",
   "execution_count": null,
   "metadata": {
    "id": "KIZFoUv48w8d"
   },
   "outputs": [],
   "source": [
    "from sklearn.ensemble import RandomForestClassifier\n",
    "from nb_utils import load_and_split_data, find_optimal_hyperparameters, load_model_from_json, fit_and_evaluate"
   ]
  },
  {
   "cell_type": "markdown",
   "metadata": {
    "id": "Bdyq_Bzz8w8e"
   },
   "source": [
    "### Load and split the dataset"
   ]
  },
  {
   "cell_type": "code",
   "execution_count": 2,
   "metadata": {
    "id": "Mb6ha5uO8w8f"
   },
   "outputs": [],
   "source": [
    "X_train, X_test, y_train, y_test = load_and_split_data(\"data/training_data_preprocessed.csv\",\n",
    "                                                       target_column='increase_stock',\n",
    "                                                       class_zero='low_bike_demand',\n",
    "                                                       test_size=0.2,\n",
    "                                                       random_state=0)"
   ]
  },
  {
   "cell_type": "markdown",
   "metadata": {
    "id": "kxxOdw1a8w8g"
   },
   "source": [
    "### Load, fit and evaluate the initial model"
   ]
  },
  {
   "cell_type": "code",
   "execution_count": 3,
   "metadata": {
    "colab": {
     "base_uri": "https://localhost:8080/"
    },
    "id": "LDEua3QW8w8h",
    "outputId": "89170e32-d3f1-45f4-f375-12b39ba9274e"
   },
   "outputs": [
    {
     "name": "stdout",
     "output_type": "stream",
     "text": [
      "Evaluating RandomForestClassifier\n",
      "Accuracy: 0.8750\n",
      "Precision: 0.6875\n",
      "Recall: 0.5690\n",
      "F1: 0.6226\n",
      "ROC AUC: 0.9148\n",
      "Confusion Matrix: \n",
      "[[247  15]\n",
      " [ 25  33]]\n",
      "\n"
     ]
    }
   ],
   "source": [
    "model = RandomForestClassifier(random_state=0)\n",
    "results = fit_and_evaluate(model,\n",
    "                           X_train,\n",
    "                           y_train,\n",
    "                           X_test,\n",
    "                           y_test,\n",
    "                           verbose=True)"
   ]
  },
  {
   "cell_type": "markdown",
   "metadata": {
    "id": "5Lyl1p2k8w8j"
   },
   "source": [
    "### Find optimal hyperparameters"
   ]
  },
  {
   "cell_type": "code",
   "execution_count": null,
   "metadata": {
    "colab": {
     "base_uri": "https://localhost:8080/"
    },
    "id": "uJLuKzJq8w8j",
    "outputId": "75374b48-dbf3-4bc7-8db6-7c5edae17081"
   },
   "outputs": [
    {
     "name": "stdout",
     "output_type": "stream",
     "text": [
      "Best parameters found:  {'bootstrap': False, 'max_depth': 20, 'max_features': 'sqrt', 'min_samples_leaf': 1, 'min_samples_split': 2, 'n_estimators': 50}\n",
      "Saving best parameters to 'output/best_params/rf_best.json'\n"
     ]
    }
   ],
   "source": [
    "param_space = {'bootstrap': [True, False],\n",
    "               'max_depth': [20, 40, 80, 100, None],\n",
    "               'max_features': [None, 'sqrt'],\n",
    "               'min_samples_leaf': [1, 2, 4],\n",
    "               'min_samples_split': [2, 5, 10],\n",
    "               'n_estimators': [50, 100, 200]\n",
    "               }\n",
    "\n",
    "best_params = find_optimal_hyperparameters(RandomForestClassifier,\n",
    "                                           param_space,\n",
    "                                           X_train,\n",
    "                                           y_train,\n",
    "                                           cv=5,\n",
    "                                           scoring='accuracy',\n",
    "                                           save_dir=\"output/best_params\",\n",
    "                                           save_file=\"rf_best_params.json\",\n",
    "                                           extra_args={\"random_state\": 0})"
   ]
  },
  {
   "cell_type": "markdown",
   "metadata": {
    "id": "17hWVXpU8w8j"
   },
   "source": [
    "### Use optimal hyperparameters to train and evaluate"
   ]
  },
  {
   "cell_type": "code",
   "execution_count": null,
   "metadata": {
    "colab": {
     "base_uri": "https://localhost:8080/"
    },
    "id": "-e7KVvvY8w8k",
    "outputId": "b7bf056e-a531-4fa8-b33b-6274935236b6"
   },
   "outputs": [
    {
     "name": "stdout",
     "output_type": "stream",
     "text": [
      "Evaluating RandomForestClassifier\n",
      "Accuracy: 0.8750\n",
      "Precision: 0.6875\n",
      "Recall: 0.5690\n",
      "F1: 0.6226\n",
      "ROC AUC: 0.9148\n",
      "Confusion Matrix: \n",
      "[[247  15]\n",
      " [ 25  33]]\n",
      "\n"
     ]
    }
   ],
   "source": [
    "opt_model = load_model_from_json(RandomForestClassifier, \"output/best_params/rf_best_params.json\")\n",
    "\n",
    "opt_results = fit_and_evaluate(model,\n",
    "                               X_train,\n",
    "                               y_train,\n",
    "                               X_test,\n",
    "                               y_test,\n",
    "                               verbose=True)"
   ]
  }
 ],
 "metadata": {
  "accelerator": "TPU",
  "colab": {
   "gpuType": "V28",
   "provenance": []
  },
  "kernelspec": {
   "display_name": "Python 3",
   "name": "python3"
  },
  "language_info": {
   "codemirror_mode": {
    "name": "ipython",
    "version": 3
   },
   "file_extension": ".py",
   "mimetype": "text/x-python",
   "name": "python",
   "nbconvert_exporter": "python",
   "pygments_lexer": "ipython3",
   "version": "3.11.2"
  }
 },
 "nbformat": 4,
 "nbformat_minor": 0
}
