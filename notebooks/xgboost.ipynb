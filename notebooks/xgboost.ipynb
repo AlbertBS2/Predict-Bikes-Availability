{
 "cells": [
  {
   "cell_type": "code",
   "execution_count": null,
   "metadata": {
    "id": "esLbS9ONOEp1"
   },
   "outputs": [],
   "source": [
    "from xgboost import XGBClassifier\n",
    "from nb_utils import load_and_split_data, find_optimal_hyperparameters, load_model_from_json, fit_and_evaluate"
   ]
  },
  {
   "cell_type": "markdown",
   "metadata": {
    "id": "TodreXgfOEp2"
   },
   "source": [
    "### Load and split the dataset"
   ]
  },
  {
   "cell_type": "code",
   "execution_count": null,
   "metadata": {
    "id": "raYqhagROEp4"
   },
   "outputs": [],
   "source": [
    "cat_features = ['hour_of_day', 'day_of_week', 'month', 'weekday', 'summertime', 'snowdepth', 'day', 'rain', 'increase_stock']\n",
    "\n",
    "X_train, X_test, y_train, y_test = load_and_split_data('app/data/training_data_preprocessed.csv',\n",
    "                                                       target_column='increase_stock',\n",
    "                                                       class_zero='low_bike_demand',\n",
    "                                                       test_size=0.2,\n",
    "                                                       cat_features=cat_features,\n",
    "                                                       random_state=0)"
   ]
  },
  {
   "cell_type": "markdown",
   "metadata": {
    "id": "qUlCMtqXOEp4"
   },
   "source": [
    "### Load, fit and evaluate the initial model"
   ]
  },
  {
   "cell_type": "code",
   "execution_count": 3,
   "metadata": {
    "colab": {
     "base_uri": "https://localhost:8080/"
    },
    "id": "wpaRNwaEOEp5",
    "outputId": "f92bcd40-2f68-4576-8a8a-36aaa8b287e2"
   },
   "outputs": [
    {
     "name": "stdout",
     "output_type": "stream",
     "text": [
      "Evaluating XGBClassifier\n",
      "Accuracy: 0.8656\n",
      "Precision: 0.6471\n",
      "Recall: 0.5690\n",
      "F1: 0.6055\n",
      "ROC AUC: 0.9118\n",
      "Confusion Matrix: \n",
      "[[244  18]\n",
      " [ 25  33]]\n",
      "\n"
     ]
    }
   ],
   "source": [
    "model = XGBClassifier(random_state=0, enable_categorical=True)\n",
    "\n",
    "results = fit_and_evaluate(model, \n",
    "                           X_train, \n",
    "                           y_train, \n",
    "                           X_test, \n",
    "                           y_test, \n",
    "                           verbose=True)"
   ]
  },
  {
   "cell_type": "markdown",
   "metadata": {
    "id": "hvLs7WRrOEp5"
   },
   "source": [
    "### Find optimal hyperparameters"
   ]
  },
  {
   "cell_type": "code",
   "execution_count": null,
   "metadata": {
    "colab": {
     "base_uri": "https://localhost:8080/"
    },
    "id": "IWCM-5wMOEp5",
    "outputId": "6a6f558f-97b7-4fdd-cd3c-a774e8f7e6cb"
   },
   "outputs": [
    {
     "name": "stdout",
     "output_type": "stream",
     "text": [
      "Best parameters found:  {'gamma': 0.1, 'learning_rate': 0.4, 'max_depth': 10, 'min_child_weight': 1, 'n_estimators': 20, 'reg_alpha': 1, 'reg_lambda': 0}\n",
      "Saving best parameters to 'test/xgb_best_params.json'\n"
     ]
    }
   ],
   "source": [
    "param_grid = {\n",
    "    'max_depth': [7, 10,12],\n",
    "    'learning_rate': [0.1, 0.2, 0.3, 0.4],\n",
    "    'n_estimators': [10, 20, 30],\n",
    "    'min_child_weight':[0.1, 1, 3],\n",
    "    'gamma':[0, 0.1, 0.3],\n",
    "    'reg_alpha':[ 0.1, 1, 2],\n",
    "    'reg_lambda': [0, 0.1]\n",
    "}\n",
    "\n",
    "best_params = find_optimal_hyperparameters(XGBClassifier,\n",
    "                                           param_grid,\n",
    "                                           X_train,\n",
    "                                           y_train,\n",
    "                                           cv=5,\n",
    "                                           scoring='accuracy',\n",
    "                                           save_dir='app/model/best_params',\n",
    "                                           save_file='xgb_best_params.json',\n",
    "                                           extra_args={'random_state': 0, 'enable_categorical': True},\n",
    "                                           verbose_training=False)"
   ]
  },
  {
   "cell_type": "markdown",
   "metadata": {
    "id": "alIoGbe3OEp6"
   },
   "source": [
    "### Use optimal hyperparameters to train and evaluate"
   ]
  },
  {
   "cell_type": "code",
   "execution_count": null,
   "metadata": {
    "colab": {
     "base_uri": "https://localhost:8080/"
    },
    "id": "HAIvBk3VOEp6",
    "outputId": "72b20b3f-77f6-4825-fc26-d3b2a46b166e"
   },
   "outputs": [
    {
     "name": "stdout",
     "output_type": "stream",
     "text": [
      "Evaluating XGBClassifier\n",
      "Accuracy: 0.8750\n",
      "Precision: 0.6667\n",
      "Recall: 0.6207\n",
      "F1: 0.6429\n",
      "ROC AUC: 0.9132\n",
      "Confusion Matrix: \n",
      "[[244  18]\n",
      " [ 22  36]]\n",
      "\n"
     ]
    }
   ],
   "source": [
    "opt_model = load_model_from_json(XGBClassifier, 'app/model/best_params/xgb_best_params.json')\n",
    "\n",
    "opt_results = fit_and_evaluate(opt_model, \n",
    "                               X_train, \n",
    "                               y_train, \n",
    "                               X_test, \n",
    "                               y_test, \n",
    "                               verbose=True)"
   ]
  }
 ],
 "metadata": {
  "accelerator": "TPU",
  "colab": {
   "gpuType": "V28",
   "provenance": []
  },
  "kernelspec": {
   "display_name": "Python 3",
   "name": "python3"
  },
  "language_info": {
   "codemirror_mode": {
    "name": "ipython",
    "version": 3
   },
   "file_extension": ".py",
   "mimetype": "text/x-python",
   "name": "python",
   "nbconvert_exporter": "python",
   "pygments_lexer": "ipython3",
   "version": "3.11.2"
  }
 },
 "nbformat": 4,
 "nbformat_minor": 0
}
