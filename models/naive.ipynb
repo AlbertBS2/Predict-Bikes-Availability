{
 "cells": [
  {
   "cell_type": "code",
   "execution_count": null,
   "metadata": {},
   "outputs": [],
   "source": [
    "from sklearn.naive_bayes import GaussianNB\n",
    "from libs.dataloader import load_and_split_data\n",
    "from libs.utils import find_optimal_hyperparameters, load_model_from_json, fit_and_evaluate"
   ]
  },
  {
   "cell_type": "markdown",
   "metadata": {},
   "source": [
    "### Load and split the dataset"
   ]
  },
  {
   "cell_type": "code",
   "execution_count": 2,
   "metadata": {},
   "outputs": [],
   "source": [
    "X_train, X_test, y_train, y_test = load_and_split_data('data/normalized_dataset.csv',\n",
    "                                                       target_column='increase_stock',\n",
    "                                                       class_zero='low_bike_demand',\n",
    "                                                       test_size=0.2,\n",
    "                                                       random_state=0)"
   ]
  },
  {
   "cell_type": "markdown",
   "metadata": {},
   "source": [
    "### Load, fit and evaluate the model"
   ]
  },
  {
   "cell_type": "code",
   "execution_count": 3,
   "metadata": {},
   "outputs": [
    {
     "name": "stdout",
     "output_type": "stream",
     "text": [
      "Evaluating GaussianNB\n",
      "Accuracy: 0.6750\n",
      "Precision: 0.3544\n",
      "Recall: 0.9655\n",
      "F1: 0.5185\n",
      "ROC AUC: 0.8985\n",
      "Confusion Matrix: \n",
      "[[160 102]\n",
      " [  2  56]]\n",
      "\n"
     ]
    }
   ],
   "source": [
    "model = GaussianNB()\n",
    "\n",
    "results = fit_and_evaluate(model, \n",
    "                           X_train, \n",
    "                           y_train, \n",
    "                           X_test, \n",
    "                           y_test, \n",
    "                           verbose=True)"
   ]
  }
 ],
 "metadata": {
  "kernelspec": {
   "display_name": "Python 3",
   "language": "python",
   "name": "python3"
  },
  "language_info": {
   "codemirror_mode": {
    "name": "ipython",
    "version": 3
   },
   "file_extension": ".py",
   "mimetype": "text/x-python",
   "name": "python",
   "nbconvert_exporter": "python",
   "pygments_lexer": "ipython3",
   "version": "3.11.2"
  }
 },
 "nbformat": 4,
 "nbformat_minor": 2
}
