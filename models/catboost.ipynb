{
 "cells": [
  {
   "cell_type": "code",
   "execution_count": null,
   "metadata": {
    "id": "zI1iiQRUSjpD"
   },
   "outputs": [],
   "source": [
    "from catboost import CatBoostClassifier\n",
    "from libs.dataloader import load_and_split_data\n",
    "from libs.utils import find_optimal_hyperparameters, load_model_from_json, fit_and_evaluate"
   ]
  },
  {
   "cell_type": "markdown",
   "metadata": {
    "id": "hiSaTtHuSjpE"
   },
   "source": [
    "### Load and split the dataset"
   ]
  },
  {
   "cell_type": "code",
   "execution_count": 2,
   "metadata": {
    "id": "t1u6VrarSjpG"
   },
   "outputs": [],
   "source": [
    "X_train, X_test, y_train, y_test = load_and_split_data('data/normalized_dataset.csv',\n",
    "                                                       target_column='increase_stock',\n",
    "                                                       class_zero='low_bike_demand',\n",
    "                                                       test_size=0.2,\n",
    "                                                       random_state=0)"
   ]
  },
  {
   "cell_type": "markdown",
   "metadata": {
    "id": "laDrxG13SjpH"
   },
   "source": [
    "### Load, fit and evaluate the initial model"
   ]
  },
  {
   "cell_type": "code",
   "execution_count": 3,
   "metadata": {
    "colab": {
     "base_uri": "https://localhost:8080/"
    },
    "id": "O6nSjDPhSjpI",
    "outputId": "149a1ac2-8073-4d65-9859-36e0e82cca57"
   },
   "outputs": [
    {
     "name": "stdout",
     "output_type": "stream",
     "text": [
      "Evaluating CatBoostClassifier\n",
      "Accuracy: 0.8719\n",
      "Precision: 0.6889\n",
      "Recall: 0.5345\n",
      "F1: 0.6019\n",
      "ROC AUC: 0.9251\n",
      "Confusion Matrix: \n",
      "[[248  14]\n",
      " [ 27  31]]\n",
      "\n"
     ]
    }
   ],
   "source": [
    "cat_features = ['hour_of_day', 'day_of_week', 'month', 'weekday', 'summertime', 'snowdepth', 'day', 'rain']\n",
    "model = CatBoostClassifier(cat_features=cat_features, random_seed=0)\n",
    "\n",
    "results = fit_and_evaluate(model, \n",
    "                           X_train, \n",
    "                           y_train, \n",
    "                           X_test, \n",
    "                           y_test, \n",
    "                           verbose=True)"
   ]
  },
  {
   "cell_type": "markdown",
   "metadata": {
    "id": "YR8BgIOjSjpJ"
   },
   "source": [
    "### Find optimal hyperparameters"
   ]
  },
  {
   "cell_type": "code",
   "execution_count": null,
   "metadata": {
    "colab": {
     "base_uri": "https://localhost:8080/"
    },
    "id": "kl-OAvjwSjpJ",
    "outputId": "09b03f57-6a28-4e97-a54b-5cadd11ebc1e"
   },
   "outputs": [
    {
     "name": "stderr",
     "output_type": "stream",
     "text": [
      "/usr/local/lib/python3.10/dist-packages/numpy/ma/core.py:2820: RuntimeWarning: invalid value encountered in cast\n",
      "  _data = np.array(data, dtype=dtype, copy=copy,\n"
     ]
    },
    {
     "name": "stdout",
     "output_type": "stream",
     "text": [
      "Best parameters found:  {'depth': 6, 'iterations': 1000, 'learning_rate': 0.01}\n",
      "Saving best parameters to 'test/catboost_best_params.json'\n"
     ]
    }
   ],
   "source": [
    "param_grid = {\n",
    "    'iterations': [500, 1000, 1500],\n",
    "    'learning_rate': [0.01, 0.05, 0.1],\n",
    "    'depth': [6, 8, 10]\n",
    "}\n",
    "\n",
    "best_params = find_optimal_hyperparameters(CatBoostClassifier,\n",
    "                                           param_grid,\n",
    "                                           X_train,\n",
    "                                           y_train,\n",
    "                                           cv=5,\n",
    "                                           scoring='accuracy',\n",
    "                                           save_dir='output/best_params',\n",
    "                                           save_file='catboost_best_params.json',\n",
    "                                           extra_args={'cat_features': cat_features, 'random_seed': 0},\n",
    "                                           verbose_training=False)"
   ]
  },
  {
   "cell_type": "markdown",
   "metadata": {
    "id": "dsjBuFhwFEJp"
   },
   "source": [
    "### Use optimal hyperparameters to train and evaluate"
   ]
  },
  {
   "cell_type": "code",
   "execution_count": 4,
   "metadata": {
    "colab": {
     "base_uri": "https://localhost:8080/"
    },
    "id": "eMWfT621Tmqn",
    "outputId": "e8ee325a-f549-44e3-ac56-61bd773916a2"
   },
   "outputs": [
    {
     "name": "stdout",
     "output_type": "stream",
     "text": [
      "Evaluating CatBoostClassifier\n",
      "Accuracy: 0.8781\n",
      "Precision: 0.7021\n",
      "Recall: 0.5690\n",
      "F1: 0.6286\n",
      "ROC AUC: 0.9247\n",
      "Confusion Matrix: \n",
      "[[248  14]\n",
      " [ 25  33]]\n",
      "\n"
     ]
    }
   ],
   "source": [
    "opt_model = load_model_from_json(CatBoostClassifier, 'output/best_params/catboost_best_params.json')\n",
    "\n",
    "opt_results = fit_and_evaluate(opt_model, \n",
    "                               X_train, \n",
    "                               y_train, \n",
    "                               X_test, \n",
    "                               y_test, \n",
    "                               verbose=True)"
   ]
  }
 ],
 "metadata": {
  "accelerator": "TPU",
  "colab": {
   "gpuType": "V28",
   "provenance": []
  },
  "kernelspec": {
   "display_name": "Python 3",
   "name": "python3"
  },
  "language_info": {
   "codemirror_mode": {
    "name": "ipython",
    "version": 3
   },
   "file_extension": ".py",
   "mimetype": "text/x-python",
   "name": "python",
   "nbconvert_exporter": "python",
   "pygments_lexer": "ipython3",
   "version": "3.11.2"
  }
 },
 "nbformat": 4,
 "nbformat_minor": 0
}
