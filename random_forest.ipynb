{
 "cells": [
  {
   "cell_type": "code",
   "execution_count": 1,
   "metadata": {},
   "outputs": [],
   "source": [
    "import pandas as pd\n",
    "import joblib\n",
    "from sklearn.ensemble import RandomForestClassifier\n",
    "from utils import find_optimal_hyperparameters, fit_and_evaluate, load_model_from_json\n",
    "from dataloader import load_and_split_data"
   ]
  },
  {
   "cell_type": "code",
   "execution_count": 2,
   "metadata": {},
   "outputs": [],
   "source": [
    "X_train, X_test, y_train, y_test = load_and_split_data(\"data/preprocessed_dataset.csv\",\n",
    "                                                       \"increase_stock\",\n",
    "                                                       \"low_bike_demand\",\n",
    "                                                       test_size=0.2,\n",
    "                                                       random_state=0)"
   ]
  },
  {
   "cell_type": "code",
   "execution_count": 3,
   "metadata": {},
   "outputs": [
    {
     "name": "stdout",
     "output_type": "stream",
     "text": [
      "Evaluating RandomForestClassifier\n",
      "Accuracy: 0.8656\n",
      "Precision: 0.6531\n",
      "Recall: 0.5517\n",
      "F1: 0.5981\n",
      "ROC AUC: 0.9144\n",
      "Confusion Matrix: \n",
      "[[245  17]\n",
      " [ 26  32]]\n",
      "\n"
     ]
    }
   ],
   "source": [
    "model = RandomForestClassifier(random_state=0)\n",
    "_ = fit_and_evaluate(model,\n",
    "                    X_train,\n",
    "                    y_train,\n",
    "                    X_test,\n",
    "                    y_test,\n",
    "                    verbose=True)"
   ]
  },
  {
   "cell_type": "code",
   "execution_count": 8,
   "metadata": {},
   "outputs": [
    {
     "name": "stdout",
     "output_type": "stream",
     "text": [
      "Best parameters found:  {'bootstrap': True, 'max_depth': 20, 'max_features': None, 'min_samples_leaf': 4, 'min_samples_split': 2, 'n_estimators': 100}\n",
      "Saving best parameters to 'output/best_params/rf_best.json'\n"
     ]
    }
   ],
   "source": [
    "param_space = {'bootstrap': [True, False],\n",
    "               'max_depth': [20, 40, 80, 100, None],\n",
    "               'max_features': [None, 'sqrt'],\n",
    "               'min_samples_leaf': [1, 2, 4],\n",
    "               'min_samples_split': [2, 5, 10],\n",
    "               'n_estimators': [50, 100, 200]\n",
    "               }\n",
    "\n",
    "best_params = find_optimal_hyperparameters(RandomForestClassifier,\n",
    "                                           param_space, \n",
    "                                           X_train, \n",
    "                                           y_train,\n",
    "                                           cv=5, \n",
    "                                           scoring=\"recall\", \n",
    "                                           n_jobs=-1, \n",
    "                                           save_dir=\"output/best_params\", \n",
    "                                           save_file=\"rf_best.json\", \n",
    "                                           extra_args={\"random_state\": 0})"
   ]
  },
  {
   "cell_type": "code",
   "execution_count": 9,
   "metadata": {},
   "outputs": [
    {
     "name": "stdout",
     "output_type": "stream",
     "text": [
      "Evaluating RandomForestClassifier\n",
      "Accuracy: 0.8750\n",
      "Precision: 0.6731\n",
      "Recall: 0.6034\n",
      "F1: 0.6364\n",
      "ROC AUC: 0.9051\n",
      "Confusion Matrix: \n",
      "[[245  17]\n",
      " [ 23  35]]\n",
      "\n"
     ]
    }
   ],
   "source": [
    "\n",
    "model = load_model_from_json(RandomForestClassifier, \"output/best_params/rf_best.json\")\n",
    "\n",
    "_= fit_and_evaluate(model, \n",
    "                    X_train, \n",
    "                    y_train, \n",
    "                    X_test, \n",
    "                    y_test, \n",
    "                    verbose=True)"
   ]
  }
 ],
 "metadata": {
  "kernelspec": {
   "display_name": "segnet",
   "language": "python",
   "name": "python3"
  },
  "language_info": {
   "codemirror_mode": {
    "name": "ipython",
    "version": 3
   },
   "file_extension": ".py",
   "mimetype": "text/x-python",
   "name": "python",
   "nbconvert_exporter": "python",
   "pygments_lexer": "ipython3",
   "version": "3.8.20"
  }
 },
 "nbformat": 4,
 "nbformat_minor": 2
}
