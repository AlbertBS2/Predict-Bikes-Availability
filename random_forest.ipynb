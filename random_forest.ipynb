{
 "cells": [
  {
   "cell_type": "code",
   "execution_count": 1,
   "metadata": {},
   "outputs": [],
   "source": [
    "import pandas as pd\n",
    "import joblib\n",
    "from sklearn.ensemble import RandomForestClassifier\n",
    "from utils import find_optimal_hyperparameters, fit_and_evaluate, load_model_from_numpy\n",
    "from dataloader import load_and_split_data"
   ]
  },
  {
   "cell_type": "code",
   "execution_count": 2,
   "metadata": {},
   "outputs": [],
   "source": [
    "X_train, X_test, y_train, y_test = load_and_split_data(\"data/preprocessed_dataset.csv\",\n",
    "                                                       \"increase_stock\",\n",
    "                                                       \"low_bike_demand\",\n",
    "                                                       test_size=0.2,\n",
    "                                                       random_state=0)"
   ]
  },
  {
   "cell_type": "code",
   "execution_count": 3,
   "metadata": {},
   "outputs": [
    {
     "name": "stdout",
     "output_type": "stream",
     "text": [
      "Accuracy: 0.866\n",
      "Precision: 0.653\n",
      "Recall: 0.552\n",
      "F1: 0.598\n",
      "ROC AUC: 0.914\n",
      "Confusion Matrix: \n",
      "[[245  17]\n",
      " [ 26  32]]\n"
     ]
    }
   ],
   "source": [
    "model = RandomForestClassifier(random_state=0)\n",
    "acc, precision, recall, f1, roc_auc, cm = fit_and_evaluate(model,\n",
    "                                                           X_train,\n",
    "                                                           y_train,\n",
    "                                                           X_test,\n",
    "                                                           y_test,\n",
    "                                                           verbose=True)"
   ]
  },
  {
   "cell_type": "code",
   "execution_count": 4,
   "metadata": {},
   "outputs": [
    {
     "name": "stdout",
     "output_type": "stream",
     "text": [
      "Best parameters found:  {'bootstrap': True, 'max_depth': 20, 'max_features': None, 'min_samples_leaf': 4, 'min_samples_split': 2, 'n_estimators': 100}\n",
      "Saving best parameters to 'output/best_params/rf_best.npy'\n"
     ]
    }
   ],
   "source": [
    "param_space = {'bootstrap': [True, False],\n",
    "               'max_depth': [20, 40, 80, 100, None],\n",
    "               'max_features': [None, 'sqrt'],\n",
    "               'min_samples_leaf': [1, 2, 4],\n",
    "               'min_samples_split': [2, 5, 10],\n",
    "               'n_estimators': [50, 100, 200]}\n",
    "\n",
    "rf = RandomForestClassifier(random_state=0)\n",
    "\n",
    "best_params = find_optimal_hyperparameters(model,\n",
    "                                           param_space, \n",
    "                                           X_train, \n",
    "                                           y_train,\n",
    "                                           cv=5, \n",
    "                                           scoring=\"recall\", \n",
    "                                           n_jobs=-1, \n",
    "                                           save_dir=\"output/best_params\", \n",
    "                                           save_file=\"rf_best.npy\")"
   ]
  },
  {
   "cell_type": "code",
   "execution_count": 5,
   "metadata": {},
   "outputs": [
    {
     "name": "stdout",
     "output_type": "stream",
     "text": [
      "Accuracy: 0.875\n",
      "Precision: 0.673\n",
      "Recall: 0.603\n",
      "F1: 0.636\n",
      "ROC AUC: 0.905\n",
      "Confusion Matrix: \n",
      "[[245  17]\n",
      " [ 23  35]]\n"
     ]
    }
   ],
   "source": [
    "model = RandomForestClassifier\n",
    "\n",
    "model = load_model_from_numpy(model, \"output/best_params/rf_best.npy\", extra_parms={\"random_state\" : 0})\n",
    "\n",
    "acc, precision, recall, f1, roc_auc, cm = fit_and_evaluate(model, \n",
    "                                                           X_train, \n",
    "                                                           y_train, \n",
    "                                                           X_test, \n",
    "                                                           y_test, \n",
    "                                                           verbose=True)"
   ]
  }
 ],
 "metadata": {
  "kernelspec": {
   "display_name": "Python 3",
   "language": "python",
   "name": "python3"
  },
  "language_info": {
   "codemirror_mode": {
    "name": "ipython",
    "version": 3
   },
   "file_extension": ".py",
   "mimetype": "text/x-python",
   "name": "python",
   "nbconvert_exporter": "python",
   "pygments_lexer": "ipython3",
   "version": "3.9.20"
  }
 },
 "nbformat": 4,
 "nbformat_minor": 2
}
