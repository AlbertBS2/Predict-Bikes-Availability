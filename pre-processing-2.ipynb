{
 "cells": [
  {
   "cell_type": "code",
   "execution_count": 1,
   "metadata": {},
   "outputs": [],
   "source": [
    "import pandas as pd\n",
    "import numpy as np\n",
    "import matplotlib.pyplot as plt\n",
    "import seaborn as sns"
   ]
  },
  {
   "cell_type": "markdown",
   "metadata": {},
   "source": [
    "### Feature Engineering"
   ]
  },
  {
   "cell_type": "markdown",
   "metadata": {},
   "source": [
    "#### Load the data"
   ]
  },
  {
   "cell_type": "code",
   "execution_count": 2,
   "metadata": {},
   "outputs": [],
   "source": [
    "data = pd.read_csv('data/training_data_fall2024.csv')"
   ]
  },
  {
   "cell_type": "markdown",
   "metadata": {},
   "source": [
    "#### Process the data"
   ]
  },
  {
   "cell_type": "code",
   "execution_count": 3,
   "metadata": {},
   "outputs": [],
   "source": [
    "# Convert the increase_stock column to a binary column\n",
    "data['increase_stock'] = np.where(data['increase_stock'] == 'high_bike_demand', 1, 0)\n",
    "\n",
    "# Drop the columns that are not needed\n",
    "data = data.drop(columns=['snow', 'holiday'])\n",
    "\n",
    "# Add day_afternoon_night (0 (8-14h), 1 (15-19h), 2 (20-7h)) column\n",
    "data['day_afternoon_night'] = np.where((15 <= data['hour_of_day']) & (data['hour_of_day'] <= 19), '1', \n",
    "\t\t\t\t\t\t\t\t\t   np.where((20 <= data['hour_of_day']) | (data['hour_of_day'] <= 7), '2', '0'))\n",
    "\n",
    "# Define the categorical (non-binary) and numerical features\n",
    "cat_features = ['day_of_week', 'month', 'day_afternoon_night']\n",
    "num_features = ['hour_of_day', 'temp', 'dew', 'humidity', 'precip', 'snowdepth', 'windspeed', 'cloudcover', 'visibility']\n",
    "\n",
    "# Normalize the numerical features\n",
    "for feature in num_features:\n",
    "    data[feature] = (data[feature] - data[feature].mean()) / data[feature].std()\n",
    "\n",
    "# One-hot encode the categorical features (which are not already binary)\n",
    "data = pd.get_dummies(data, columns=cat_features)"
   ]
  },
  {
   "cell_type": "code",
   "execution_count": 4,
   "metadata": {},
   "outputs": [],
   "source": [
    "data.to_csv('data/preprocessed_data_2.csv', sep=';', index=False)"
   ]
  }
 ],
 "metadata": {
  "kernelspec": {
   "display_name": "Python 3",
   "language": "python",
   "name": "python3"
  },
  "language_info": {
   "codemirror_mode": {
    "name": "ipython",
    "version": 3
   },
   "file_extension": ".py",
   "mimetype": "text/x-python",
   "name": "python",
   "nbconvert_exporter": "python",
   "pygments_lexer": "ipython3",
   "version": "3.11.2"
  }
 },
 "nbformat": 4,
 "nbformat_minor": 2
}
