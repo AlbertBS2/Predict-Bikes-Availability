{
 "cells": [
  {
   "cell_type": "code",
   "execution_count": 8,
   "metadata": {},
   "outputs": [],
   "source": [
    "import numpy as np\n",
    "\n",
    "from sklearn.model_selection import train_test_split, GridSearchCV\n",
    "from sklearn.metrics import accuracy_score, precision_score, recall_score, f1_score, roc_auc_score, confusion_matrix\n",
    "from sklearn.neighbors import KNeighborsClassifier\n",
    "from dataloader import load_and_split_data\n",
    "import os\n",
    "from utils import find_optimal_hyperparameters, load_model_from_json, fit_and_evaluate"
   ]
  },
  {
   "cell_type": "markdown",
   "metadata": {},
   "source": [
    "### Load data using our custom dataloader"
   ]
  },
  {
   "cell_type": "code",
   "execution_count": 9,
   "metadata": {},
   "outputs": [],
   "source": [
    "X_train, X_test, y_train, y_test = load_and_split_data(\"data/preprocessed_dataset.csv\", \n",
    "                                                       target_column='increase_stock', \n",
    "                                                       class_zero='low_bike_demand', \n",
    "                                                       test_size=0.2, \n",
    "                                                       random_state=0)"
   ]
  },
  {
   "cell_type": "markdown",
   "metadata": {},
   "source": [
    "### KNN without hyper param tuning"
   ]
  },
  {
   "cell_type": "code",
   "execution_count": 10,
   "metadata": {},
   "outputs": [
    {
     "name": "stdout",
     "output_type": "stream",
     "text": [
      "Evaluating KNeighborsClassifier\n",
      "Accuracy: 0.8219\n",
      "Precision: 0.5102\n",
      "Recall: 0.4310\n",
      "F1: 0.4673\n",
      "ROC AUC: 0.7884\n",
      "Confusion Matrix: \n",
      "[[238  24]\n",
      " [ 33  25]]\n",
      "\n"
     ]
    }
   ],
   "source": [
    "# Using arbitraily chosen n_neighbors=5\n",
    "params = {\"n_neighbors\": 5}\n",
    "knn = KNeighborsClassifier(**params)\n",
    "_ = fit_and_evaluate(knn, X_train, y_train, X_test, y_test, verbose=True, float_precision=4)"
   ]
  },
  {
   "cell_type": "markdown",
   "metadata": {},
   "source": [
    "### Find optimal hyperparameters"
   ]
  },
  {
   "cell_type": "code",
   "execution_count": 7,
   "metadata": {},
   "outputs": [
    {
     "name": "stdout",
     "output_type": "stream",
     "text": [
      "Best parameters found:  {'algorithm': 'ball_tree', 'metric': 'manhattan', 'n_neighbors': 21, 'weights': 'distance'}\n",
      "Saving best parameters to 'output/best_params/knn_best_params.json'\n"
     ]
    }
   ],
   "source": [
    "knn = KNeighborsClassifier()\n",
    "param_grid = {\"n_neighbors\": range(1, 31) ,\n",
    "              \"weights\": [\"uniform\", \"distance\"],\n",
    "              \"metric\": [\"euclidean\", \"manhattan\", \"chebyshev\", \"minkowski\"],\n",
    "              \"algorithm\": [\"ball_tree\", \"kd_tree\", \"brute\"],\n",
    "              #\"leaf_size\": range(1, 51), # Only relevant if algorithm=\"ball_tree\", \"kd_tree\"\n",
    "              #\"p\": [1, 2, 3],   # Only relevant if metric=\"minkowski\"\n",
    "              }\n",
    "\n",
    "\n",
    "best_params = find_optimal_hyperparameters(knn, param_grid, X_train, y_train, scoring='accuracy', save_dir=\"output/best_params\", save_file='knn_best_params.json')"
   ]
  },
  {
   "cell_type": "markdown",
   "metadata": {},
   "source": [
    "### Use optimal hyperparameters to train and evaluate"
   ]
  },
  {
   "cell_type": "code",
   "execution_count": 11,
   "metadata": {},
   "outputs": [
    {
     "name": "stdout",
     "output_type": "stream",
     "text": [
      "Evaluating KNeighborsClassifier\n",
      "Accuracy: 0.8313\n",
      "Precision: 0.5417\n",
      "Recall: 0.4483\n",
      "F1: 0.4906\n",
      "ROC AUC: 0.8438\n",
      "Confusion Matrix: \n",
      "[[240  22]\n",
      " [ 32  26]]\n",
      "\n"
     ]
    }
   ],
   "source": [
    "knn = KNeighborsClassifier\n",
    "# Load the best parameters\n",
    "knn = load_model_from_json(knn, 'output/best_params/knn_best_params.json')\n",
    "_ = fit_and_evaluate(knn, X_train, y_train, X_test, y_test, verbose=True, float_precision=4)"
   ]
  }
 ],
 "metadata": {
  "kernelspec": {
   "display_name": "segnet",
   "language": "python",
   "name": "python3"
  },
  "language_info": {
   "codemirror_mode": {
    "name": "ipython",
    "version": 3
   },
   "file_extension": ".py",
   "mimetype": "text/x-python",
   "name": "python",
   "nbconvert_exporter": "python",
   "pygments_lexer": "ipython3",
   "version": "3.8.20"
  }
 },
 "nbformat": 4,
 "nbformat_minor": 2
}
