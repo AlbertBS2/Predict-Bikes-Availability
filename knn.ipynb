{
 "cells": [
  {
   "cell_type": "code",
   "execution_count": null,
   "metadata": {},
   "outputs": [],
   "source": [
    "from sklearn.neighbors import KNeighborsClassifier\n",
    "from dataloader import load_and_split_data\n",
    "from utils import find_optimal_hyperparameters, load_model_from_json, fit_and_evaluate"
   ]
  },
  {
   "cell_type": "markdown",
   "metadata": {},
   "source": [
    "### Load and split the dataset"
   ]
  },
  {
   "cell_type": "code",
   "execution_count": 2,
   "metadata": {},
   "outputs": [],
   "source": [
    "X_train, X_test, y_train, y_test = load_and_split_data(\"data/normalized_dataset.csv\", \n",
    "                                                       target_column='increase_stock', \n",
    "                                                       class_zero='low_bike_demand', \n",
    "                                                       test_size=0.2,\n",
    "                                                       random_state=0)"
   ]
  },
  {
   "cell_type": "markdown",
   "metadata": {},
   "source": [
    "### Load, fit and evaluate the initial model"
   ]
  },
  {
   "cell_type": "code",
   "execution_count": null,
   "metadata": {},
   "outputs": [
    {
     "name": "stdout",
     "output_type": "stream",
     "text": [
      "Evaluating KNeighborsClassifier\n",
      "Accuracy: 0.8781\n",
      "Precision: 0.6557\n",
      "Recall: 0.6897\n",
      "F1: 0.6723\n",
      "ROC AUC: 0.8819\n",
      "Confusion Matrix: \n",
      "[[241  21]\n",
      " [ 18  40]]\n",
      "\n"
     ]
    }
   ],
   "source": [
    "# Using arbitraily chosen n_neighbors=5\n",
    "params = {\"n_neighbors\": 5}\n",
    "knn = KNeighborsClassifier(**params)\n",
    "results = fit_and_evaluate(knn, \n",
    "                           X_train, \n",
    "                           y_train, \n",
    "                           X_test, \n",
    "                           y_test, \n",
    "                           verbose=True)"
   ]
  },
  {
   "cell_type": "markdown",
   "metadata": {},
   "source": [
    "### Find optimal hyperparameters"
   ]
  },
  {
   "cell_type": "code",
   "execution_count": null,
   "metadata": {},
   "outputs": [
    {
     "name": "stdout",
     "output_type": "stream",
     "text": [
      "Best parameters found:  {'algorithm': 'ball_tree', 'metric': 'manhattan', 'n_neighbors': 23, 'weights': 'uniform'}\n",
      "Saving best parameters to 'output/best_params/knn_best_params.json'\n"
     ]
    }
   ],
   "source": [
    "param_grid = {\"n_neighbors\": range(1, 31) ,\n",
    "              \"weights\": [\"uniform\", \"distance\"],\n",
    "              \"metric\": [\"euclidean\", \"manhattan\", \"chebyshev\", \"minkowski\"],\n",
    "              \"algorithm\": [\"ball_tree\", \"kd_tree\", \"brute\"]\n",
    "              }\n",
    "\n",
    "\n",
    "best_params = find_optimal_hyperparameters(KNeighborsClassifier,\n",
    "                                           param_grid,\n",
    "                                           X_train,\n",
    "                                           y_train,\n",
    "                                           cv=5,\n",
    "                                           scoring='accuracy',\n",
    "                                           save_dir=\"output/best_params\",\n",
    "                                           save_file='knn_best_params.json')"
   ]
  },
  {
   "cell_type": "markdown",
   "metadata": {},
   "source": [
    "### Use optimal hyperparameters to train and evaluate"
   ]
  },
  {
   "cell_type": "code",
   "execution_count": null,
   "metadata": {},
   "outputs": [
    {
     "name": "stdout",
     "output_type": "stream",
     "text": [
      "Evaluating KNeighborsClassifier\n",
      "Accuracy: 0.8656\n",
      "Precision: 0.6531\n",
      "Recall: 0.5517\n",
      "F1: 0.5981\n",
      "ROC AUC: 0.9053\n",
      "Confusion Matrix: \n",
      "[[245  17]\n",
      " [ 26  32]]\n",
      "\n"
     ]
    }
   ],
   "source": [
    "opt_model = load_model_from_json(KNeighborsClassifier, 'output/best_params/knn_best_params.json')\n",
    "\n",
    "results = fit_and_evaluate(opt_model, \n",
    "                           X_train, \n",
    "                           y_train, \n",
    "                           X_test, \n",
    "                           y_test, \n",
    "                           verbose=True)"
   ]
  }
 ],
 "metadata": {
  "kernelspec": {
   "display_name": "Python 3",
   "language": "python",
   "name": "python3"
  },
  "language_info": {
   "codemirror_mode": {
    "name": "ipython",
    "version": 3
   },
   "file_extension": ".py",
   "mimetype": "text/x-python",
   "name": "python",
   "nbconvert_exporter": "python",
   "pygments_lexer": "ipython3",
   "version": "3.11.2"
  }
 },
 "nbformat": 4,
 "nbformat_minor": 2
}
