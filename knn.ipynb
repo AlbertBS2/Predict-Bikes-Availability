{
 "cells": [
  {
   "cell_type": "code",
   "execution_count": 1,
   "metadata": {},
   "outputs": [],
   "source": [
    "import numpy as np\n",
    "\n",
    "from sklearn.model_selection import train_test_split, GridSearchCV\n",
    "from sklearn.metrics import accuracy_score, precision_score, recall_score, f1_score, roc_auc_score, confusion_matrix\n",
    "from sklearn.neighbors import KNeighborsClassifier\n",
    "from dataloader import load_and_split_data\n",
    "import os\n",
    "from utils import find_optimal_hyperparameters, load_model_from_numpy, fit_and_evaluate"
   ]
  },
  {
   "cell_type": "markdown",
   "metadata": {},
   "source": [
    "### Load data using our custom dataloader"
   ]
  },
  {
   "cell_type": "code",
   "execution_count": 2,
   "metadata": {},
   "outputs": [],
   "source": [
    "X_train, X_test, y_train, y_test = load_and_split_data(\"data/preprocessed_dataset.csv\", \n",
    "                                                       target_column='increase_stock', \n",
    "                                                       class_zero='low_bike_demand', \n",
    "                                                       test_size=0.2, \n",
    "                                                       random_state=0)"
   ]
  },
  {
   "cell_type": "markdown",
   "metadata": {},
   "source": [
    "### KNN without hyper param tuning"
   ]
  },
  {
   "cell_type": "code",
   "execution_count": 5,
   "metadata": {},
   "outputs": [
    {
     "name": "stdout",
     "output_type": "stream",
     "text": [
      "Accuracy: 0.8219\n",
      "Precision: 0.5102\n",
      "Recall: 0.4310\n",
      "F1: 0.4673\n",
      "ROC AUC: 0.7884\n",
      "Confusion Matrix: \n",
      "[[238  24]\n",
      " [ 33  25]]\n"
     ]
    }
   ],
   "source": [
    "# Using arbitraily chosen n_neighbors=5\n",
    "params = {\"n_neighbors\": 5}\n",
    "knn = KNeighborsClassifier(**params)\n",
    "_ = fit_and_evaluate(knn, X_train, y_train, X_test, y_test, verbose=True, float_precision=4)"
   ]
  },
  {
   "cell_type": "markdown",
   "metadata": {},
   "source": [
    "### Find optimal hyperparameters"
   ]
  },
  {
   "cell_type": "code",
   "execution_count": null,
   "metadata": {},
   "outputs": [],
   "source": [
    "knn = KNeighborsClassifier()\n",
    "param_grid = {\"n_neighbors\": range(1, 31) ,\n",
    "              \"weights\": [\"uniform\", \"distance\"],\n",
    "              \"metric\": [\"euclidean\", \"manhattan\", \"chebyshev\", \"minkowski\"],\n",
    "              \"algorithm\": [\"ball_tree\", \"kd_tree\", \"brute\"],\n",
    "              \"leaf_size\": range(1, 51), # Only relevant if algorithm=\"ball_tree\", \"kd_tree\"\n",
    "              \"p\": [1, 2, 3],   # Only relevant if metric=\"minkowski\"\n",
    "              } \n",
    "\n",
    "\n",
    "best_params = find_optimal_hyperparameters(knn, param_grid, X_train, y_train, scoring='recall', save_dir=\"output/best_params\", save_file='knn_best_params.npy')"
   ]
  },
  {
   "cell_type": "markdown",
   "metadata": {},
   "source": [
    "### Use optimal hyperparameters to train and evaluate"
   ]
  },
  {
   "cell_type": "code",
   "execution_count": 6,
   "metadata": {},
   "outputs": [
    {
     "ename": "TypeError",
     "evalue": "__init__() got an unexpected keyword argument 'random_state'",
     "output_type": "error",
     "traceback": [
      "\u001b[1;31m---------------------------------------------------------------------------\u001b[0m",
      "\u001b[1;31mTypeError\u001b[0m                                 Traceback (most recent call last)",
      "Cell \u001b[1;32mIn[6], line 3\u001b[0m\n\u001b[0;32m      1\u001b[0m knn \u001b[38;5;241m=\u001b[39m KNeighborsClassifier\n\u001b[0;32m      2\u001b[0m \u001b[38;5;66;03m# Load the best parameters\u001b[39;00m\n\u001b[1;32m----> 3\u001b[0m knn \u001b[38;5;241m=\u001b[39m \u001b[43mload_model_from_numpy\u001b[49m\u001b[43m(\u001b[49m\u001b[43mknn\u001b[49m\u001b[43m,\u001b[49m\u001b[43m \u001b[49m\u001b[38;5;124;43m'\u001b[39;49m\u001b[38;5;124;43moutput/best_params/knn_best_params.npy\u001b[39;49m\u001b[38;5;124;43m'\u001b[39;49m\u001b[43m)\u001b[49m\n\u001b[0;32m      4\u001b[0m _ \u001b[38;5;241m=\u001b[39m fit_and_evaluate(knn, X_train, y_train, X_test, y_test, verbose\u001b[38;5;241m=\u001b[39m\u001b[38;5;28;01mTrue\u001b[39;00m, float_precision\u001b[38;5;241m=\u001b[39m\u001b[38;5;241m4\u001b[39m)\n",
      "File \u001b[1;32md:\\OneDrive - Uppsala universitet\\Year 5\\Semester 1\\Statistical Machine Learning\\Project\\Predict-Bikes-Availability\\utils.py:35\u001b[0m, in \u001b[0;36mload_model_from_numpy\u001b[1;34m(model, numpy_file)\u001b[0m\n\u001b[0;32m     24\u001b[0m \u001b[38;5;250m\u001b[39m\u001b[38;5;124;03m\"\"\"\u001b[39;00m\n\u001b[0;32m     25\u001b[0m \u001b[38;5;124;03mLoad a model from a numpy file\u001b[39;00m\n\u001b[0;32m     26\u001b[0m \u001b[38;5;124;03m\u001b[39;00m\n\u001b[1;32m   (...)\u001b[0m\n\u001b[0;32m     32\u001b[0m \u001b[38;5;124;03mmodel: The model loaded from the numpy file\u001b[39;00m\n\u001b[0;32m     33\u001b[0m \u001b[38;5;124;03m\"\"\"\u001b[39;00m\n\u001b[0;32m     34\u001b[0m params \u001b[38;5;241m=\u001b[39m np\u001b[38;5;241m.\u001b[39mload(numpy_file, allow_pickle\u001b[38;5;241m=\u001b[39m\u001b[38;5;28;01mTrue\u001b[39;00m)\u001b[38;5;241m.\u001b[39mitem()\n\u001b[1;32m---> 35\u001b[0m model \u001b[38;5;241m=\u001b[39m \u001b[43mmodel\u001b[49m\u001b[43m(\u001b[49m\u001b[38;5;241;43m*\u001b[39;49m\u001b[38;5;241;43m*\u001b[39;49m\u001b[43mparams\u001b[49m\u001b[43m,\u001b[49m\u001b[43m \u001b[49m\u001b[43mrandom_state\u001b[49m\u001b[38;5;241;43m=\u001b[39;49m\u001b[38;5;241;43m0\u001b[39;49m\u001b[43m)\u001b[49m\n\u001b[0;32m     36\u001b[0m \u001b[38;5;28;01mreturn\u001b[39;00m model\n",
      "\u001b[1;31mTypeError\u001b[0m: __init__() got an unexpected keyword argument 'random_state'"
     ]
    }
   ],
   "source": [
    "knn = KNeighborsClassifier\n",
    "# Load the best parameters\n",
    "knn = load_model_from_numpy(knn, 'output/best_params/knn_best_params.npy')\n",
    "_ = fit_and_evaluate(knn, X_train, y_train, X_test, y_test, verbose=True, float_precision=4)"
   ]
  }
 ],
 "metadata": {
  "kernelspec": {
   "display_name": "segnet",
   "language": "python",
   "name": "python3"
  },
  "language_info": {
   "codemirror_mode": {
    "name": "ipython",
    "version": 3
   },
   "file_extension": ".py",
   "mimetype": "text/x-python",
   "name": "python",
   "nbconvert_exporter": "python",
   "pygments_lexer": "ipython3",
   "version": "3.8.20"
  }
 },
 "nbformat": 4,
 "nbformat_minor": 2
}
