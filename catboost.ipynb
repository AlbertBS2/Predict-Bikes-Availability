{
 "cells": [
  {
   "cell_type": "code",
   "execution_count": 1,
   "metadata": {},
   "outputs": [],
   "source": [
    "import pandas as pd\n",
    "import numpy as np\n",
    "import matplotlib.pyplot as plt\n",
    "import seaborn as sns\n",
    "\n",
    "from sklearn.model_selection import train_test_split, GridSearchCV, KFold\n",
    "from sklearn.metrics import accuracy_score, precision_score, recall_score, f1_score, roc_auc_score, confusion_matrix\n",
    "from catboost import CatBoostClassifier"
   ]
  },
  {
   "cell_type": "markdown",
   "metadata": {},
   "source": [
    "### Loading the dataset"
   ]
  },
  {
   "cell_type": "code",
   "execution_count": 21,
   "metadata": {},
   "outputs": [],
   "source": [
    "train_data = pd.read_csv('data/training_data_fall2024.csv')\n",
    "\n",
    "# Transform label into 0 (low_bike_demand) and 1 (high_bike_demand)\n",
    "train_data['increase_stock'] = np.where(train_data['increase_stock'] == 'low_bike_demand', 0, 1)\n",
    "\n",
    "X = train_data.copy()\n",
    "y = X.pop('increase_stock')\n",
    "\n",
    "cat_features = ['hour_of_day', 'day_of_week', 'month', 'holiday', 'weekday', 'summertime']"
   ]
  },
  {
   "cell_type": "code",
   "execution_count": 22,
   "metadata": {},
   "outputs": [],
   "source": [
    "# Split the data into test and train\n",
    "X_train, X_test, y_train, y_valid = train_test_split(X, y, test_size=0.3, random_state=0)"
   ]
  },
  {
   "cell_type": "markdown",
   "metadata": {},
   "source": [
    "### Defining CatBoost function"
   ]
  },
  {
   "cell_type": "code",
   "execution_count": 23,
   "metadata": {},
   "outputs": [],
   "source": [
    "def catboost(X, y, test_size=0.2, cat_features=None):\n",
    "    # Split the data into test and train\n",
    "    X_train, X_valid, y_train, y_valid = train_test_split(X, y, test_size=test_size, random_state=0)\n",
    "\n",
    "    # Load and fit the model\n",
    "    model = CatBoostClassifier(\n",
    "        random_seed=0,\n",
    "        cat_features=cat_features,\n",
    "        #iterations=1000,\n",
    "        #learning_rate=0.1,\n",
    "        #depth=5\n",
    "    )\n",
    "    model.fit(X_train, y_train, verbose=0)\n",
    "\n",
    "    # Compute predictions\n",
    "    y_pred = model.predict(X_valid)\n",
    "\n",
    "    # Compute metrics\n",
    "    accuracy = accuracy_score(y_valid, y_pred)\n",
    "    precision = precision_score(y_valid, y_pred) # Proportion of 'low_bike_demand' (0) that were correctly predicted\n",
    "    recall = recall_score(y_valid, y_pred) # Proportion of 'high_bike_demand' (1) that were correctly predicted\n",
    "    conf_matrix = confusion_matrix(y_valid, y_pred)\n",
    "\n",
    "    print(f\"Logistic Regression Model \\n\")\n",
    "    print(f\"Accuracy: {round(accuracy, 4)}\")\n",
    "    print(f'Precision: {round(precision, 4)}')\n",
    "    print(f'Recall: {round(recall, 4)}')\n",
    "    print(f'Confusion Matrix: \\n{conf_matrix}')\n",
    "\n",
    "    return model\n"
   ]
  },
  {
   "cell_type": "code",
   "execution_count": 24,
   "metadata": {},
   "outputs": [
    {
     "name": "stdout",
     "output_type": "stream",
     "text": [
      "Logistic Regression Model \n",
      "\n",
      "Accuracy: 0.881\n",
      "Precision: 0.75\n",
      "Recall: 0.6429\n",
      "Confusion Matrix: \n",
      "[[251  15]\n",
      " [ 25  45]]\n"
     ]
    },
    {
     "data": {
      "text/plain": [
       "<catboost.core.CatBoostClassifier at 0x26bf7a8bd10>"
      ]
     },
     "execution_count": 24,
     "metadata": {},
     "output_type": "execute_result"
    }
   ],
   "source": [
    "catboost(X_train, y_train, test_size=0.3, cat_features=cat_features)"
   ]
  },
  {
   "cell_type": "markdown",
   "metadata": {},
   "source": [
    "### Tune the model"
   ]
  },
  {
   "cell_type": "code",
   "execution_count": null,
   "metadata": {},
   "outputs": [],
   "source": [
    "model = CatBoostClassifier(random_seed=0, cat_features=cat_features)\n",
    "\n",
    "param_grid = {\n",
    "    'iterations': [500, 1000, 1500],\n",
    "    'learning_rate': [0.01, 0.05, 0.1],\n",
    "    'depth': [6, 8, 10]\n",
    "}\n",
    "\n",
    "grid_search = GridSearchCV(model, param_grid, cv=2, scoring='recall')\n",
    "\n",
    "grid_search.fit(X_train, y_train, verbose=0)"
   ]
  },
  {
   "cell_type": "code",
   "execution_count": null,
   "metadata": {},
   "outputs": [],
   "source": [
    "print(grid_search.best_params_)"
   ]
  },
  {
   "cell_type": "code",
   "execution_count": 25,
   "metadata": {},
   "outputs": [
    {
     "data": {
      "text/plain": [
       "<catboost.core.CatBoostClassifier at 0x26bf7b62d10>"
      ]
     },
     "execution_count": 25,
     "metadata": {},
     "output_type": "execute_result"
    }
   ],
   "source": [
    "tuned_model = CatBoostClassifier(\n",
    "    random_seed=0,\n",
    "    cat_features=cat_features,\n",
    "    #iterations=grid_search.best_params_['iterations'],\n",
    "    iterations=500,\n",
    "    #learning_rate=grid_search.best_params_['learning_rate'],\n",
    "    learning_rate=0.05,\n",
    "    #depth=grid_search.best_params_['depth']\n",
    "    depth=8\n",
    ")\n",
    "\n",
    "tuned_model.fit(X_train, y_train, verbose=0)\n"
   ]
  },
  {
   "cell_type": "markdown",
   "metadata": {},
   "source": [
    "### Save the optimal model"
   ]
  },
  {
   "cell_type": "code",
   "execution_count": 26,
   "metadata": {},
   "outputs": [],
   "source": [
    "tuned_model.save_model('models/catboost_model.cbm')"
   ]
  },
  {
   "cell_type": "markdown",
   "metadata": {},
   "source": [
    "## Final Evaluation"
   ]
  },
  {
   "cell_type": "markdown",
   "metadata": {},
   "source": [
    "### Load the model"
   ]
  },
  {
   "cell_type": "code",
   "execution_count": 27,
   "metadata": {},
   "outputs": [
    {
     "data": {
      "text/plain": [
       "<catboost.core.CatBoostClassifier at 0x26bf6b9dd90>"
      ]
     },
     "execution_count": 27,
     "metadata": {},
     "output_type": "execute_result"
    }
   ],
   "source": [
    "catboost_model = CatBoostClassifier()\n",
    "catboost_model.load_model('models/catboost_model.cbm')"
   ]
  },
  {
   "cell_type": "markdown",
   "metadata": {},
   "source": [
    "### Compute predictions and metrics"
   ]
  },
  {
   "cell_type": "code",
   "execution_count": 28,
   "metadata": {},
   "outputs": [
    {
     "name": "stdout",
     "output_type": "stream",
     "text": [
      "CatBoost Classifier Model \n",
      "\n",
      "Accuracy: 0.8938\n",
      "Precision: 0.7089\n",
      "Recall: 0.6667\n",
      "Confusion Matrix: \n",
      "[[373  23]\n",
      " [ 28  56]]\n"
     ]
    }
   ],
   "source": [
    "y_pred = catboost_model.predict(X_test)\n",
    "\n",
    "# Compute metrics\n",
    "accuracy = accuracy_score(y_valid, y_pred)\n",
    "precision = precision_score(y_valid, y_pred) # Proportion of 'low_bike_demand' (0) that were correctly predicted\n",
    "recall = recall_score(y_valid, y_pred) # Proportion of 'high_bike_demand' (1) that were correctly predicted\n",
    "conf_matrix = confusion_matrix(y_valid, y_pred)\n",
    "\n",
    "print(f\"CatBoost Classifier Model \\n\")\n",
    "print(f\"Accuracy: {round(accuracy, 4)}\")\n",
    "print(f'Precision: {round(precision, 4)}')\n",
    "print(f'Recall: {round(recall, 4)}')\n",
    "print(f'Confusion Matrix: \\n{conf_matrix}')"
   ]
  },
  {
   "cell_type": "markdown",
   "metadata": {},
   "source": [
    "## Loading pre-processed-2 dataset"
   ]
  },
  {
   "cell_type": "code",
   "execution_count": 2,
   "metadata": {},
   "outputs": [],
   "source": [
    "train_data = pd.read_csv('data/preprocessed_data_2.csv', sep=';')\n",
    "\n",
    "X = train_data.copy()\n",
    "y = X.pop('increase_stock')"
   ]
  },
  {
   "cell_type": "code",
   "execution_count": 6,
   "metadata": {},
   "outputs": [],
   "source": [
    "# Split the data into test and train\n",
    "X_train, X_test, y_train, y_valid = train_test_split(X, y, test_size=0.3, random_state=0)"
   ]
  },
  {
   "cell_type": "code",
   "execution_count": 11,
   "metadata": {},
   "outputs": [
    {
     "name": "stdout",
     "output_type": "stream",
     "text": [
      "Logistic Regression Model \n",
      "\n",
      "Accuracy: 0.8899\n",
      "Precision: 0.7705\n",
      "Recall: 0.6714\n",
      "Confusion Matrix: \n",
      "[[252  14]\n",
      " [ 23  47]]\n"
     ]
    }
   ],
   "source": [
    "catboost_model = catboost(X_train, y_train, test_size=0.3)"
   ]
  },
  {
   "cell_type": "code",
   "execution_count": 12,
   "metadata": {},
   "outputs": [
    {
     "name": "stdout",
     "output_type": "stream",
     "text": [
      "CatBoost Classifier Model \n",
      "\n",
      "Accuracy: 0.8979\n",
      "Precision: 0.7273\n",
      "Recall: 0.6667\n",
      "Confusion Matrix: \n",
      "[[375  21]\n",
      " [ 28  56]]\n"
     ]
    }
   ],
   "source": [
    "y_pred = catboost_model.predict(X_test)\n",
    "\n",
    "# Compute metrics\n",
    "accuracy = accuracy_score(y_valid, y_pred)\n",
    "precision = precision_score(y_valid, y_pred) # Proportion of 'low_bike_demand' (0) that were correctly predicted\n",
    "recall = recall_score(y_valid, y_pred) # Proportion of 'high_bike_demand' (1) that were correctly predicted\n",
    "conf_matrix = confusion_matrix(y_valid, y_pred)\n",
    "\n",
    "print(f\"CatBoost Classifier Model \\n\")\n",
    "print(f\"Accuracy: {round(accuracy, 4)}\")\n",
    "print(f'Precision: {round(precision, 4)}')\n",
    "print(f'Recall: {round(recall, 4)}')\n",
    "print(f'Confusion Matrix: \\n{conf_matrix}')"
   ]
  },
  {
   "cell_type": "markdown",
   "metadata": {},
   "source": [
    "## Loading pre-processed dataset"
   ]
  },
  {
   "cell_type": "code",
   "execution_count": 17,
   "metadata": {},
   "outputs": [],
   "source": [
    "train_data = pd.read_csv('data/preprocessed_dataset.csv')\n",
    "\n",
    "# Transform label into 0 (low_bike_demand) and 1 (high_bike_demand)\n",
    "train_data['increase_stock'] = np.where(train_data['increase_stock'] == 'low_bike_demand', 0, 1)\n",
    "\n",
    "X = train_data.copy()\n",
    "y = X.pop('increase_stock')"
   ]
  },
  {
   "cell_type": "code",
   "execution_count": 18,
   "metadata": {},
   "outputs": [],
   "source": [
    "# Split the data into test and train\n",
    "X_train, X_test, y_train, y_valid = train_test_split(X, y, test_size=0.3, random_state=0)"
   ]
  },
  {
   "cell_type": "code",
   "execution_count": 19,
   "metadata": {},
   "outputs": [
    {
     "name": "stdout",
     "output_type": "stream",
     "text": [
      "Logistic Regression Model \n",
      "\n",
      "Accuracy: 0.8839\n",
      "Precision: 0.7627\n",
      "Recall: 0.6429\n",
      "Confusion Matrix: \n",
      "[[252  14]\n",
      " [ 25  45]]\n"
     ]
    }
   ],
   "source": [
    "catboost_model = catboost(X_train, y_train, test_size=0.3)"
   ]
  },
  {
   "cell_type": "code",
   "execution_count": 20,
   "metadata": {},
   "outputs": [
    {
     "name": "stdout",
     "output_type": "stream",
     "text": [
      "CatBoost Classifier Model \n",
      "\n",
      "Accuracy: 0.8812\n",
      "Precision: 0.6957\n",
      "Recall: 0.5714\n",
      "Confusion Matrix: \n",
      "[[375  21]\n",
      " [ 36  48]]\n"
     ]
    }
   ],
   "source": [
    "y_pred = catboost_model.predict(X_test)\n",
    "\n",
    "# Compute metrics\n",
    "accuracy = accuracy_score(y_valid, y_pred)\n",
    "precision = precision_score(y_valid, y_pred) # Proportion of 'low_bike_demand' (0) that were correctly predicted\n",
    "recall = recall_score(y_valid, y_pred) # Proportion of 'high_bike_demand' (1) that were correctly predicted\n",
    "conf_matrix = confusion_matrix(y_valid, y_pred)\n",
    "\n",
    "print(f\"CatBoost Classifier Model \\n\")\n",
    "print(f\"Accuracy: {round(accuracy, 4)}\")\n",
    "print(f'Precision: {round(precision, 4)}')\n",
    "print(f'Recall: {round(recall, 4)}')\n",
    "print(f'Confusion Matrix: \\n{conf_matrix}')"
   ]
  }
 ],
 "metadata": {
  "kernelspec": {
   "display_name": "Python 3",
   "language": "python",
   "name": "python3"
  },
  "language_info": {
   "codemirror_mode": {
    "name": "ipython",
    "version": 3
   },
   "file_extension": ".py",
   "mimetype": "text/x-python",
   "name": "python",
   "nbconvert_exporter": "python",
   "pygments_lexer": "ipython3",
   "version": "3.11.2"
  }
 },
 "nbformat": 4,
 "nbformat_minor": 2
}
